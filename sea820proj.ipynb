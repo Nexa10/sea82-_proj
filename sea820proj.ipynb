{
  "cells": [
    {
      "cell_type": "markdown",
      "metadata": {
        "id": "7GXXDOWxgm_7"
      },
      "source": [
        "# SEA 820 NLP Final Project: Detecting AI-Generated Text\n",
        "- Dennis Audu\n",
        "- 148463193"
      ]
    },
    {
      "cell_type": "code",
      "execution_count": 1,
      "metadata": {
        "colab": {
          "base_uri": "https://localhost:8080/"
        },
        "id": "mY7qqmsKguz9",
        "outputId": "72be14df-f176-4e04-b9f3-330615ac4c51"
      },
      "outputs": [
        {
          "output_type": "stream",
          "name": "stdout",
          "text": [
            "Drive already mounted at /content/drive; to attempt to forcibly remount, call drive.mount(\"/content/drive\", force_remount=True).\n"
          ]
        }
      ],
      "source": [
        "from google.colab import drive\n",
        "drive.mount('/content/drive')"
      ]
    },
    {
      "cell_type": "code",
      "execution_count": 2,
      "metadata": {
        "id": "HmJoHABQjd4k"
      },
      "outputs": [],
      "source": [
        "import kagglehub\n",
        "import pandas as pd\n",
        "import numpy as np\n",
        "import os"
      ]
    },
    {
      "cell_type": "code",
      "execution_count": 3,
      "metadata": {
        "id": "fqfxjVGJjfFR"
      },
      "outputs": [],
      "source": [
        "os.chdir('/content/drive/MyDrive/Colab Notebooks/sea820_proj') # set colab project directory, so it can read other files"
      ]
    },
    {
      "cell_type": "code",
      "execution_count": 4,
      "metadata": {
        "colab": {
          "base_uri": "https://localhost:8080/"
        },
        "id": "T3uAGKkik1BW",
        "outputId": "f446c350-35e0-490a-f661-3c9ba312f549"
      },
      "outputs": [
        {
          "output_type": "stream",
          "name": "stdout",
          "text": [
            "tested!\n"
          ]
        }
      ],
      "source": [
        "from utils import test_google_colab\n",
        "\n",
        "test_google_colab()"
      ]
    },
    {
      "cell_type": "code",
      "execution_count": 5,
      "metadata": {
        "colab": {
          "base_uri": "https://localhost:8080/",
          "height": 224
        },
        "id": "-upITHfugm_8",
        "outputId": "c3a18199-17a2-4aec-9d18-321d5000ebc9"
      },
      "outputs": [
        {
          "output_type": "stream",
          "name": "stdout",
          "text": [
            "(487235, 2)\n"
          ]
        },
        {
          "output_type": "execute_result",
          "data": {
            "text/plain": [
              "                                                text  generated\n",
              "0  Cars. Cars have been around since they became ...        0.0\n",
              "1  Transportation is a large necessity in most co...        0.0\n",
              "2  \"America's love affair with it's vehicles seem...        0.0\n",
              "3  How often do you ride in a car? Do you drive a...        0.0\n",
              "4  Cars are a wonderful thing. They are perhaps o...        0.0"
            ],
            "text/html": [
              "\n",
              "  <div id=\"df-843aeede-8cf0-495e-865c-7f9e154c4073\" class=\"colab-df-container\">\n",
              "    <div>\n",
              "<style scoped>\n",
              "    .dataframe tbody tr th:only-of-type {\n",
              "        vertical-align: middle;\n",
              "    }\n",
              "\n",
              "    .dataframe tbody tr th {\n",
              "        vertical-align: top;\n",
              "    }\n",
              "\n",
              "    .dataframe thead th {\n",
              "        text-align: right;\n",
              "    }\n",
              "</style>\n",
              "<table border=\"1\" class=\"dataframe\">\n",
              "  <thead>\n",
              "    <tr style=\"text-align: right;\">\n",
              "      <th></th>\n",
              "      <th>text</th>\n",
              "      <th>generated</th>\n",
              "    </tr>\n",
              "  </thead>\n",
              "  <tbody>\n",
              "    <tr>\n",
              "      <th>0</th>\n",
              "      <td>Cars. Cars have been around since they became ...</td>\n",
              "      <td>0.0</td>\n",
              "    </tr>\n",
              "    <tr>\n",
              "      <th>1</th>\n",
              "      <td>Transportation is a large necessity in most co...</td>\n",
              "      <td>0.0</td>\n",
              "    </tr>\n",
              "    <tr>\n",
              "      <th>2</th>\n",
              "      <td>\"America's love affair with it's vehicles seem...</td>\n",
              "      <td>0.0</td>\n",
              "    </tr>\n",
              "    <tr>\n",
              "      <th>3</th>\n",
              "      <td>How often do you ride in a car? Do you drive a...</td>\n",
              "      <td>0.0</td>\n",
              "    </tr>\n",
              "    <tr>\n",
              "      <th>4</th>\n",
              "      <td>Cars are a wonderful thing. They are perhaps o...</td>\n",
              "      <td>0.0</td>\n",
              "    </tr>\n",
              "  </tbody>\n",
              "</table>\n",
              "</div>\n",
              "    <div class=\"colab-df-buttons\">\n",
              "\n",
              "  <div class=\"colab-df-container\">\n",
              "    <button class=\"colab-df-convert\" onclick=\"convertToInteractive('df-843aeede-8cf0-495e-865c-7f9e154c4073')\"\n",
              "            title=\"Convert this dataframe to an interactive table.\"\n",
              "            style=\"display:none;\">\n",
              "\n",
              "  <svg xmlns=\"http://www.w3.org/2000/svg\" height=\"24px\" viewBox=\"0 -960 960 960\">\n",
              "    <path d=\"M120-120v-720h720v720H120Zm60-500h600v-160H180v160Zm220 220h160v-160H400v160Zm0 220h160v-160H400v160ZM180-400h160v-160H180v160Zm440 0h160v-160H620v160ZM180-180h160v-160H180v160Zm440 0h160v-160H620v160Z\"/>\n",
              "  </svg>\n",
              "    </button>\n",
              "\n",
              "  <style>\n",
              "    .colab-df-container {\n",
              "      display:flex;\n",
              "      gap: 12px;\n",
              "    }\n",
              "\n",
              "    .colab-df-convert {\n",
              "      background-color: #E8F0FE;\n",
              "      border: none;\n",
              "      border-radius: 50%;\n",
              "      cursor: pointer;\n",
              "      display: none;\n",
              "      fill: #1967D2;\n",
              "      height: 32px;\n",
              "      padding: 0 0 0 0;\n",
              "      width: 32px;\n",
              "    }\n",
              "\n",
              "    .colab-df-convert:hover {\n",
              "      background-color: #E2EBFA;\n",
              "      box-shadow: 0px 1px 2px rgba(60, 64, 67, 0.3), 0px 1px 3px 1px rgba(60, 64, 67, 0.15);\n",
              "      fill: #174EA6;\n",
              "    }\n",
              "\n",
              "    .colab-df-buttons div {\n",
              "      margin-bottom: 4px;\n",
              "    }\n",
              "\n",
              "    [theme=dark] .colab-df-convert {\n",
              "      background-color: #3B4455;\n",
              "      fill: #D2E3FC;\n",
              "    }\n",
              "\n",
              "    [theme=dark] .colab-df-convert:hover {\n",
              "      background-color: #434B5C;\n",
              "      box-shadow: 0px 1px 3px 1px rgba(0, 0, 0, 0.15);\n",
              "      filter: drop-shadow(0px 1px 2px rgba(0, 0, 0, 0.3));\n",
              "      fill: #FFFFFF;\n",
              "    }\n",
              "  </style>\n",
              "\n",
              "    <script>\n",
              "      const buttonEl =\n",
              "        document.querySelector('#df-843aeede-8cf0-495e-865c-7f9e154c4073 button.colab-df-convert');\n",
              "      buttonEl.style.display =\n",
              "        google.colab.kernel.accessAllowed ? 'block' : 'none';\n",
              "\n",
              "      async function convertToInteractive(key) {\n",
              "        const element = document.querySelector('#df-843aeede-8cf0-495e-865c-7f9e154c4073');\n",
              "        const dataTable =\n",
              "          await google.colab.kernel.invokeFunction('convertToInteractive',\n",
              "                                                    [key], {});\n",
              "        if (!dataTable) return;\n",
              "\n",
              "        const docLinkHtml = 'Like what you see? Visit the ' +\n",
              "          '<a target=\"_blank\" href=https://colab.research.google.com/notebooks/data_table.ipynb>data table notebook</a>'\n",
              "          + ' to learn more about interactive tables.';\n",
              "        element.innerHTML = '';\n",
              "        dataTable['output_type'] = 'display_data';\n",
              "        await google.colab.output.renderOutput(dataTable, element);\n",
              "        const docLink = document.createElement('div');\n",
              "        docLink.innerHTML = docLinkHtml;\n",
              "        element.appendChild(docLink);\n",
              "      }\n",
              "    </script>\n",
              "  </div>\n",
              "\n",
              "\n",
              "    <div id=\"df-c43d6da7-d0a4-42e4-a245-8e4f9c6f42ea\">\n",
              "      <button class=\"colab-df-quickchart\" onclick=\"quickchart('df-c43d6da7-d0a4-42e4-a245-8e4f9c6f42ea')\"\n",
              "                title=\"Suggest charts\"\n",
              "                style=\"display:none;\">\n",
              "\n",
              "<svg xmlns=\"http://www.w3.org/2000/svg\" height=\"24px\"viewBox=\"0 0 24 24\"\n",
              "     width=\"24px\">\n",
              "    <g>\n",
              "        <path d=\"M19 3H5c-1.1 0-2 .9-2 2v14c0 1.1.9 2 2 2h14c1.1 0 2-.9 2-2V5c0-1.1-.9-2-2-2zM9 17H7v-7h2v7zm4 0h-2V7h2v10zm4 0h-2v-4h2v4z\"/>\n",
              "    </g>\n",
              "</svg>\n",
              "      </button>\n",
              "\n",
              "<style>\n",
              "  .colab-df-quickchart {\n",
              "      --bg-color: #E8F0FE;\n",
              "      --fill-color: #1967D2;\n",
              "      --hover-bg-color: #E2EBFA;\n",
              "      --hover-fill-color: #174EA6;\n",
              "      --disabled-fill-color: #AAA;\n",
              "      --disabled-bg-color: #DDD;\n",
              "  }\n",
              "\n",
              "  [theme=dark] .colab-df-quickchart {\n",
              "      --bg-color: #3B4455;\n",
              "      --fill-color: #D2E3FC;\n",
              "      --hover-bg-color: #434B5C;\n",
              "      --hover-fill-color: #FFFFFF;\n",
              "      --disabled-bg-color: #3B4455;\n",
              "      --disabled-fill-color: #666;\n",
              "  }\n",
              "\n",
              "  .colab-df-quickchart {\n",
              "    background-color: var(--bg-color);\n",
              "    border: none;\n",
              "    border-radius: 50%;\n",
              "    cursor: pointer;\n",
              "    display: none;\n",
              "    fill: var(--fill-color);\n",
              "    height: 32px;\n",
              "    padding: 0;\n",
              "    width: 32px;\n",
              "  }\n",
              "\n",
              "  .colab-df-quickchart:hover {\n",
              "    background-color: var(--hover-bg-color);\n",
              "    box-shadow: 0 1px 2px rgba(60, 64, 67, 0.3), 0 1px 3px 1px rgba(60, 64, 67, 0.15);\n",
              "    fill: var(--button-hover-fill-color);\n",
              "  }\n",
              "\n",
              "  .colab-df-quickchart-complete:disabled,\n",
              "  .colab-df-quickchart-complete:disabled:hover {\n",
              "    background-color: var(--disabled-bg-color);\n",
              "    fill: var(--disabled-fill-color);\n",
              "    box-shadow: none;\n",
              "  }\n",
              "\n",
              "  .colab-df-spinner {\n",
              "    border: 2px solid var(--fill-color);\n",
              "    border-color: transparent;\n",
              "    border-bottom-color: var(--fill-color);\n",
              "    animation:\n",
              "      spin 1s steps(1) infinite;\n",
              "  }\n",
              "\n",
              "  @keyframes spin {\n",
              "    0% {\n",
              "      border-color: transparent;\n",
              "      border-bottom-color: var(--fill-color);\n",
              "      border-left-color: var(--fill-color);\n",
              "    }\n",
              "    20% {\n",
              "      border-color: transparent;\n",
              "      border-left-color: var(--fill-color);\n",
              "      border-top-color: var(--fill-color);\n",
              "    }\n",
              "    30% {\n",
              "      border-color: transparent;\n",
              "      border-left-color: var(--fill-color);\n",
              "      border-top-color: var(--fill-color);\n",
              "      border-right-color: var(--fill-color);\n",
              "    }\n",
              "    40% {\n",
              "      border-color: transparent;\n",
              "      border-right-color: var(--fill-color);\n",
              "      border-top-color: var(--fill-color);\n",
              "    }\n",
              "    60% {\n",
              "      border-color: transparent;\n",
              "      border-right-color: var(--fill-color);\n",
              "    }\n",
              "    80% {\n",
              "      border-color: transparent;\n",
              "      border-right-color: var(--fill-color);\n",
              "      border-bottom-color: var(--fill-color);\n",
              "    }\n",
              "    90% {\n",
              "      border-color: transparent;\n",
              "      border-bottom-color: var(--fill-color);\n",
              "    }\n",
              "  }\n",
              "</style>\n",
              "\n",
              "      <script>\n",
              "        async function quickchart(key) {\n",
              "          const quickchartButtonEl =\n",
              "            document.querySelector('#' + key + ' button');\n",
              "          quickchartButtonEl.disabled = true;  // To prevent multiple clicks.\n",
              "          quickchartButtonEl.classList.add('colab-df-spinner');\n",
              "          try {\n",
              "            const charts = await google.colab.kernel.invokeFunction(\n",
              "                'suggestCharts', [key], {});\n",
              "          } catch (error) {\n",
              "            console.error('Error during call to suggestCharts:', error);\n",
              "          }\n",
              "          quickchartButtonEl.classList.remove('colab-df-spinner');\n",
              "          quickchartButtonEl.classList.add('colab-df-quickchart-complete');\n",
              "        }\n",
              "        (() => {\n",
              "          let quickchartButtonEl =\n",
              "            document.querySelector('#df-c43d6da7-d0a4-42e4-a245-8e4f9c6f42ea button');\n",
              "          quickchartButtonEl.style.display =\n",
              "            google.colab.kernel.accessAllowed ? 'block' : 'none';\n",
              "        })();\n",
              "      </script>\n",
              "    </div>\n",
              "\n",
              "    </div>\n",
              "  </div>\n"
            ],
            "application/vnd.google.colaboratory.intrinsic+json": {
              "type": "dataframe",
              "variable_name": "df"
            }
          },
          "metadata": {},
          "execution_count": 5
        }
      ],
      "source": [
        "# Loading dataset from kaggle\n",
        "\n",
        "path = kagglehub.dataset_download(\"shanegerami/ai-vs-human-text\")\n",
        "\n",
        "files = os.listdir(path)\n",
        "df = pd.read_csv(os.path.join(path, \"AI_Human.csv\"))\n",
        "\n",
        "print(df.shape)\n",
        "df.head()"
      ]
    },
    {
      "cell_type": "markdown",
      "metadata": {
        "id": "1GCIHyE7gm_9"
      },
      "source": [
        "#### Exploratory Data Analysis"
      ]
    },
    {
      "cell_type": "code",
      "execution_count": 6,
      "metadata": {
        "id": "ywJeZFgggm_-"
      },
      "outputs": [],
      "source": [
        "import matplotlib.pyplot as plt\n",
        "import seaborn as sns\n",
        "from collections import Counter"
      ]
    },
    {
      "cell_type": "code",
      "execution_count": 7,
      "metadata": {
        "colab": {
          "base_uri": "https://localhost:8080/"
        },
        "id": "PQ6Pfqy_gm_-",
        "outputId": "5125bf4b-b78f-4b3f-9749-48778029ba02"
      },
      "outputs": [
        {
          "output_type": "stream",
          "name": "stdout",
          "text": [
            "<class 'pandas.core.frame.DataFrame'>\n",
            "RangeIndex: 487235 entries, 0 to 487234\n",
            "Data columns (total 2 columns):\n",
            " #   Column     Non-Null Count   Dtype  \n",
            "---  ------     --------------   -----  \n",
            " 0   text       487235 non-null  object \n",
            " 1   generated  487235 non-null  float64\n",
            "dtypes: float64(1), object(1)\n",
            "memory usage: 7.4+ MB\n",
            "None\n",
            "\n",
            "\n",
            "text         0\n",
            "generated    0\n",
            "dtype: int64\n",
            "\n",
            "\n",
            "Number of duplicate rows: 0\n"
          ]
        }
      ],
      "source": [
        "# Check for missing values, data types, and duplicates to ensure clean dataset\n",
        "print(df.info())\n",
        "print(\"\\n\")\n",
        "print(df.isnull().sum())\n",
        "print(\"\\n\")\n",
        "print(f\"Number of duplicate rows: {df.duplicated().sum()}\")"
      ]
    },
    {
      "cell_type": "code",
      "execution_count": 8,
      "metadata": {
        "colab": {
          "base_uri": "https://localhost:8080/",
          "height": 651
        },
        "id": "-E07xsrRgm_-",
        "outputId": "6d7cd663-a3fe-4498-95fe-895061981bef"
      },
      "outputs": [
        {
          "output_type": "stream",
          "name": "stdout",
          "text": [
            "Word count statistics:\n",
            "Mean: 393.1\n",
            "Median: 363.0\n",
            "Min: 0\n",
            "Max: 1668\n"
          ]
        },
        {
          "output_type": "display_data",
          "data": {
            "text/plain": [
              "<Figure size 800x600 with 1 Axes>"
            ],
            "image/png": "[encoded data removed]"
          },
          "metadata": {}
        }
      ],
      "source": [
        "# Text Length Analysis\n",
        "# Analyze the distribution of text lengths to understand dataset characteristics\n",
        "df['word_count'] = df['text'].apply(lambda x: len(str(x).split()))\n",
        "df['char_count'] = df['text'].apply(lambda x: len(str(x)))\n",
        "\n",
        "print(f\"Word count statistics:\")\n",
        "print(f\"Mean: {df['word_count'].mean():.1f}\")\n",
        "print(f\"Median: {df['word_count'].median():.1f}\")\n",
        "print(f\"Min: {df['word_count'].min()}\")\n",
        "print(f\"Max: {df['word_count'].max()}\")\n",
        "\n",
        "# Visualize word count distribution\n",
        "plt.figure(figsize=(8,6))\n",
        "sns.histplot(df['word_count'], bins=50, kde=True)\n",
        "plt.title('Distribution of Word Counts Across All Texts')\n",
        "plt.xlabel('Number of Words')\n",
        "plt.ylabel('Frequency')\n",
        "plt.show()"
      ]
    },
    {
      "cell_type": "code",
      "execution_count": 9,
      "metadata": {
        "colab": {
          "base_uri": "https://localhost:8080/",
          "height": 501
        },
        "id": "wORlOt_5gm_-",
        "outputId": "3bb0c8be-535a-45ba-e65f-2458da95e0fc"
      },
      "outputs": [
        {
          "output_type": "display_data",
          "data": {
            "text/plain": [
              "<Figure size 600x500 with 1 Axes>"
            ],
            "image/png": "[encoded data removed]"
          },
          "metadata": {}
        }
      ],
      "source": [
        "# Class Distribution\n",
        "sns.set(style=\"whitegrid\")\n",
        "label_counts = df['generated'].value_counts().sort_index()\n",
        "label_names = ['Human (0)', 'AI (1)']\n",
        "\n",
        "plt.figure(figsize=(6, 5))\n",
        "\n",
        "sns.barplot(\n",
        "    x=label_names,\n",
        "    y=label_counts.values,\n",
        "    hue=label_names,\n",
        "    palette='pastel',\n",
        "    legend=False\n",
        ")\n",
        "\n",
        "plt.title('Distribution of AI vs Human Texts', fontsize=14)\n",
        "plt.xlabel('Label', fontsize=12)\n",
        "plt.ylabel('Count', fontsize=12)\n",
        "\n",
        "for i, count in enumerate(label_counts.values):\n",
        "    plt.text(i, count + 1000, str(count), ha='center', va='bottom', fontsize=11)\n",
        "plt.tight_layout()\n",
        "plt.show()"
      ]
    },
    {
      "cell_type": "code",
      "execution_count": 10,
      "metadata": {
        "colab": {
          "base_uri": "https://localhost:8080/"
        },
        "id": "l4PqVMKdgm_-",
        "outputId": "5e13b09e-d9fc-46c8-967b-02397544c124"
      },
      "outputs": [
        {
          "output_type": "stream",
          "name": "stdout",
          "text": [
            "Average AI text length: 2126.3 characters\n",
            "Average Human text length: 2354.6 characters\n",
            "Difference: 228.3 characters\n",
            "\n",
            "AI-generated texts: 181,438 (37.2%)\n",
            "Human-written texts: 305,797 (62.8%)\n",
            "Dataset balance: Imbalanced\n"
          ]
        }
      ],
      "source": [
        "# Examine systematic differences between AI-generated and human-written texts\n",
        "ai_texts = df[df['generated'] == 1]['text']\n",
        "human_texts = df[df['generated'] == 0]['text']\n",
        "\n",
        "print(f\"Average AI text length: {ai_texts.str.len().mean():.1f} characters\")\n",
        "print(f\"Average Human text length: {human_texts.str.len().mean():.1f} characters\")\n",
        "print(f\"Difference: {abs(ai_texts.str.len().mean() - human_texts.str.len().mean()):.1f} characters\")\n",
        "\n",
        "\n",
        "print(f\"\\nAI-generated texts: {len(ai_texts):,} ({len(ai_texts)/len(df)*100:.1f}%)\")\n",
        "print(f\"Human-written texts: {len(human_texts):,} ({len(human_texts)/len(df)*100:.1f}%)\")\n",
        "print(f\"Dataset balance: {'Balanced' if abs(len(ai_texts) - len(human_texts))/len(df) < 0.1 else 'Imbalanced'}\")"
      ]
    },
    {
      "cell_type": "markdown",
      "metadata": {
        "id": "SmGKlOSzgm__"
      },
      "source": [
        "### Preprocessing"
      ]
    },
    {
      "cell_type": "code",
      "execution_count": 11,
      "metadata": {
        "colab": {
          "base_uri": "https://localhost:8080/"
        },
        "id": "MLAqh-EDgm__",
        "outputId": "52d9d326-5a52-40d8-eb99-173ecbe39aea"
      },
      "outputs": [
        {
          "output_type": "stream",
          "name": "stderr",
          "text": [
            "[nltk_data] Downloading package stopwords to /root/nltk_data...\n",
            "[nltk_data]   Package stopwords is already up-to-date!\n"
          ]
        }
      ],
      "source": [
        "import pickle\n",
        "import re\n",
        "import string\n",
        "from tqdm import tqdm\n",
        "import nltk\n",
        "nltk.download(\"stopwords\")\n",
        "from nltk.corpus import stopwords\n",
        "import spacy\n",
        "\n",
        "tqdm.pandas()\n",
        "nlp = spacy.load(\"en_core_web_sm\")\n",
        "stop_words = set(stopwords.words('english'))"
      ]
    },
    {
      "cell_type": "code",
      "execution_count": 12,
      "metadata": {
        "id": "s5zgXeUBgm__"
      },
      "outputs": [],
      "source": [
        "# These functions extract linguistic features to distinguish AI-generated from human text\n",
        "\n",
        "def preprocess_text(text):\n",
        "    doc = nlp(text)\n",
        "    # Extract meaningful tokens: lemmatized, lowercase, no stopwords/punctuation\n",
        "    tokens = [token.lemma_.lower()\n",
        "              for token in doc\n",
        "              if not token.is_stop and token.is_alpha]\n",
        "    return \" \".join(tokens)\n",
        "\n",
        "\n",
        "def get_sentence_lengths(text):\n",
        "    \"\"\"\n",
        "    Extract word counts for each sentence in the text.\n",
        "    Sentences are split on periods, exclamation marks, and question marks.\n",
        "    \"\"\"\n",
        "    sentences = [s.strip() for s in re.split(r'[.!?]+', text) if s.strip()]\n",
        "    return [len(s.split()) for s in sentences] if sentences else [0]\n",
        "\n",
        "def avg_sentence_length(text):\n",
        "    \"\"\"\n",
        "    Calculate average sentence length in words.\n",
        "    Shorter sentences might indicate simpler AI generation patterns.\n",
        "    \"\"\"\n",
        "    lengths = get_sentence_lengths(text)\n",
        "    return np.mean(lengths) if lengths else 0\n",
        "\n",
        "def sentence_length_std(text):\n",
        "    \"\"\"\n",
        "    Calculate standard deviation of sentence lengths.\n",
        "    High variation might indicate more natural human writing patterns.\n",
        "    \"\"\"\n",
        "    lengths = get_sentence_lengths(text)\n",
        "    return np.std(lengths) if lengths else 0\n",
        "\n",
        "def max_sentence_length(text):\n",
        "    \"\"\"\n",
        "    Find the longest sentence in the text.\n",
        "    Extremely long sentences might be characteristic of AI generation.\n",
        "    \"\"\"\n",
        "    lengths = get_sentence_lengths(text)\n",
        "    return np.max(lengths) if lengths else 0\n",
        "\n",
        "def punctuation_density(text):\n",
        "    \"\"\"\n",
        "    Calculate ratio of punctuation marks to total words.\n",
        "    Different punctuation patterns might distinguish AI from human text.\n",
        "    \"\"\"\n",
        "    punct_count = sum(1 for ch in text if ch in string.punctuation)\n",
        "    word_count = len(text.split()) or 1\n",
        "    return punct_count / word_count\n",
        "\n",
        "def stopword_ratio(text):\n",
        "    \"\"\"\n",
        "    Calculate the ratio of stopwords to total words.\n",
        "    AI might use different patterns of function words (the, and, of, etc.).\n",
        "    \"\"\"\n",
        "    tokens = text.split()\n",
        "    if not tokens:\n",
        "        return 0\n",
        "    stop_count = sum(1 for tok in tokens if tok.lower() in stop_words)\n",
        "    return stop_count / len(tokens)\n",
        "\n",
        "def pos_ratios(text):\n",
        "    \"\"\"\n",
        "    Calculate ratios of different parts of speech (POS).\n",
        "    AI and humans might use different distributions of nouns, verbs, etc.\n",
        "\n",
        "    Returns ratios for: nouns, verbs, adjectives, adverbs, pronouns\n",
        "    \"\"\"\n",
        "    doc = nlp(text)\n",
        "    total_tokens = len([t for t in doc if t.is_alpha])\n",
        "    if total_tokens == 0:\n",
        "        return {\"noun_ratio\": 0, \"verb_ratio\": 0, \"adj_ratio\": 0, \"adv_ratio\": 0, \"pron_ratio\": 0}\n",
        "\n",
        "    counts = {\n",
        "        \"noun_ratio\": sum(1 for t in doc if t.pos_ == \"NOUN\") / total_tokens,\n",
        "        \"verb_ratio\": sum(1 for t in doc if t.pos_ == \"VERB\") / total_tokens,\n",
        "        \"adj_ratio\": sum(1 for t in doc if t.pos_ == \"ADJ\") / total_tokens,\n",
        "        \"adv_ratio\": sum(1 for t in doc if t.pos_ == \"ADV\") / total_tokens,\n",
        "        \"pron_ratio\": sum(1 for t in doc if t.pos_ == \"PRON\") / total_tokens,\n",
        "    }\n",
        "    return counts\n",
        "\n",
        "def extract_numerical_features(df):\n",
        "    \"\"\"\n",
        "    Extract all linguistic features from the dataset.\n",
        "    This creates a comprehensive feature matrix for the classical ML model.\n",
        "    \"\"\"\n",
        "\n",
        "    features = pd.DataFrame()\n",
        "\n",
        "    # Sentence-level features\n",
        "    print(\"- Sentence length features\")\n",
        "    features[\"avg_sentence_length\"] = df[\"text\"].progress_apply(avg_sentence_length)\n",
        "    features[\"sentence_length_std\"] = df[\"text\"].progress_apply(sentence_length_std)\n",
        "    features[\"max_sentence_length\"] = df[\"text\"].progress_apply(max_sentence_length)\n",
        "\n",
        "    # Lexical features\n",
        "    print(\"- Lexical features\")\n",
        "    features[\"punctuation_density\"] = df[\"text\"].progress_apply(punctuation_density)\n",
        "    features[\"stopword_ratio\"] = df[\"text\"].progress_apply(stopword_ratio)\n",
        "\n",
        "    # Syntactic features (POS ratios)\n",
        "    print(\"- Part-of-speech features\")\n",
        "    pos_df = df[\"text\"].progress_apply(lambda x: pd.Series(pos_ratios(x)))\n",
        "    features = pd.concat([features, pos_df], axis=1)\n",
        "\n",
        "    print(f\"Feature extraction complete. Shape: {features.shape}\")\n",
        "    return features"
      ]
    },
    {
      "cell_type": "code",
      "execution_count": 13,
      "metadata": {
        "id": "QURu2Uptgm__"
      },
      "outputs": [],
      "source": [
        "# Data Persistence Functions\n",
        "# Save and load preprocessed data to avoid recomputing expensive operations\n",
        "def save_corpus_and_features(df, corpus_path=\"tokens.pkl\", features_path=\"features.pkl\"):\n",
        "    \"\"\"\n",
        "    Preprocess texts and extract features, then save both as pickle files.\n",
        "    This saves time on subsequent runs by avoiding recomputation. Initially took over 830 minutes to run.\n",
        "    \"\"\"\n",
        "    if os.path.exists(corpus_path) and os.path.exists(features_path):\n",
        "        print(f\"Corpus and features already exist at {corpus_path} and {features_path}\")\n",
        "        return\n",
        "\n",
        "    # Preprocess all texts for TF-IDF vectorization\n",
        "    corpus = df[\"text\"].progress_apply(preprocess_text).tolist()\n",
        "\n",
        "    # Extract numerical features for classical ML model\n",
        "    features = extract_numerical_features(df)\n",
        "\n",
        "    # Save processed data\n",
        "    with open(corpus_path, \"wb\") as f:\n",
        "        pickle.dump(corpus, f)\n",
        "    with open(features_path, \"wb\") as f:\n",
        "        pickle.dump(features, f)\n",
        "\n",
        "    print(f\"Corpus saved to {corpus_path}\")\n",
        "    print(f\"Features saved to {features_path}\")\n",
        "\n",
        "def load_corpus_and_features(corpus_path=\"tokens.pkl\", features_path=\"features.pkl\"):\n",
        "\n",
        "    if not (os.path.exists(corpus_path) and os.path.exists(features_path)):\n",
        "        raise FileNotFoundError(f\"Preprocessed files not found: {corpus_path}, {features_path}\")\n",
        "\n",
        "    with open(corpus_path, \"rb\") as f:\n",
        "        corpus = pickle.load(f)\n",
        "\n",
        "    with open(features_path, \"rb\") as f:\n",
        "        features = pickle.load(f)\n",
        "\n",
        "    return corpus, features"
      ]
    },
    {
      "cell_type": "markdown",
      "metadata": {
        "id": "GjS3RqPdgm__"
      },
      "source": [
        "### Training Classifier"
      ]
    },
    {
      "cell_type": "code",
      "execution_count": 14,
      "metadata": {
        "id": "03ym9UmegnAA"
      },
      "outputs": [],
      "source": [
        "from sklearn.ensemble import RandomForestClassifier\n",
        "from sklearn.feature_extraction.text import TfidfVectorizer\n",
        "from sklearn.model_selection import train_test_split\n",
        "from scipy.sparse import hstack"
      ]
    },
    {
      "cell_type": "code",
      "execution_count": 15,
      "metadata": {
        "colab": {
          "base_uri": "https://localhost:8080/"
        },
        "id": "NEttQd-6gnAA",
        "outputId": "ca2dd212-31b0-4bc1-8069-5425ea98adbe"
      },
      "outputs": [
        {
          "output_type": "stream",
          "name": "stdout",
          "text": [
            "Corpus and features already exist at tokens.pkl and features.pkl\n"
          ]
        }
      ],
      "source": [
        "# Execute preprocessing pipeline\n",
        "save_corpus_and_features(df)"
      ]
    },
    {
      "cell_type": "markdown",
      "metadata": {
        "id": "kxEy5RCpgnAA"
      },
      "source": [
        "### Data Split and Feature Extraction"
      ]
    },
    {
      "cell_type": "code",
      "execution_count": 16,
      "metadata": {
        "colab": {
          "base_uri": "https://localhost:8080/"
        },
        "id": "1_43hBG3gnAA",
        "outputId": "dc3fb457-23d4-421a-fa23-ad06805fbac6"
      },
      "outputs": [
        {
          "output_type": "stream",
          "name": "stdout",
          "text": [
            "Training set: (389788, 1010), Test set: (97447, 1010)\n"
          ]
        }
      ],
      "source": [
        "corpus, features = load_corpus_and_features()\n",
        "\n",
        "tfidf = TfidfVectorizer(\n",
        "    max_features=1000,        # Limit vocabulary size for computational efficiency\n",
        "    min_df=5,\n",
        "    max_df=0.95,\n",
        "    ngram_range=(1, 2)\n",
        ")\n",
        "X_tfidf = tfidf.fit_transform(corpus)\n",
        "X_stats = features\n",
        "\n",
        "# Combine sparse TF-IDF features with dense statistical features\n",
        "# This creates a hybrid feature representation\n",
        "X = hstack([X_tfidf, X_stats.values])\n",
        "y = df[\"generated\"]\n",
        "\n",
        "# Train/test split with stratification to maintain class balance\n",
        "X_train, X_test, y_train, y_test = train_test_split(\n",
        "    X, y, test_size=0.2, random_state=42, stratify=y\n",
        ")\n",
        "print(f\"Training set: {X_train.shape}, Test set: {X_test.shape}\")"
      ]
    },
    {
      "cell_type": "markdown",
      "metadata": {
        "id": "UwFli4oLgnAA"
      },
      "source": [
        "### Training"
      ]
    },
    {
      "cell_type": "code",
      "execution_count": 17,
      "metadata": {
        "colab": {
          "base_uri": "https://localhost:8080/"
        },
        "id": "1MiJMdiggnAA",
        "outputId": "cebe0a1c-a526-46d5-f13f-474a77312054"
      },
      "outputs": [
        {
          "output_type": "stream",
          "name": "stdout",
          "text": [
            "Training complete\n"
          ]
        }
      ],
      "source": [
        "# Initialize Random Forest with carefully tuned hyperparameters\n",
        "clf = RandomForestClassifier(\n",
        "    n_estimators=50,\n",
        "    max_depth=10,\n",
        "    min_samples_split=10,\n",
        "    min_samples_leaf=5,\n",
        "    max_features='sqrt',\n",
        "    random_state=42,\n",
        "    n_jobs=-1\n",
        ")\n",
        "\n",
        "clf.fit(X_train, y_train)\n",
        "print(\"Training complete\")"
      ]
    },
    {
      "cell_type": "markdown",
      "metadata": {
        "id": "gBQr7K2UgnAA"
      },
      "source": [
        "#### Evaluation"
      ]
    },
    {
      "cell_type": "code",
      "execution_count": 18,
      "metadata": {
        "colab": {
          "base_uri": "https://localhost:8080/",
          "height": 886
        },
        "id": "SV1I5udOgnAA",
        "outputId": "49225c98-d06d-483c-ac69-8fe3801f57a0"
      },
      "outputs": [
        {
          "output_type": "stream",
          "name": "stdout",
          "text": [
            "\n",
            "Classification Report:\n",
            "               precision    recall  f1-score   support\n",
            "\n",
            "Human-written       0.92      0.99      0.96     61159\n",
            " AI-generated       0.99      0.86      0.92     36288\n",
            "\n",
            "     accuracy                           0.95     97447\n",
            "    macro avg       0.96      0.93      0.94     97447\n",
            " weighted avg       0.95      0.95      0.94     97447\n",
            "\n",
            "\n",
            "Confusion Matrix:\n"
          ]
        },
        {
          "output_type": "display_data",
          "data": {
            "text/plain": [
              "<Figure size 800x600 with 2 Axes>"
            ],
            "image/png": "[encoded data removed]"
          },
          "metadata": {}
        },
        {
          "output_type": "stream",
          "name": "stdout",
          "text": [
            "\n",
            "Summary:\n",
            "Total test samples: 97447\n",
            "Correct predictions: 92131\n",
            "Accuracy: 0.9454\n"
          ]
        }
      ],
      "source": [
        "from utils import evaluate_model_performance\n",
        "\n",
        "# Predictions\n",
        "y_pred = clf.predict(X_test)\n",
        "evaluate_model_performance(y_test, y_pred)"
      ]
    },
    {
      "cell_type": "markdown",
      "metadata": {
        "id": "skMbp_hIgnAB"
      },
      "source": [
        "##### Manual Testing"
      ]
    },
    {
      "cell_type": "code",
      "execution_count": 19,
      "metadata": {
        "colab": {
          "base_uri": "https://localhost:8080/"
        },
        "id": "ReWsbaOpgnAB",
        "outputId": "1ac87b93-6c73-4464-ad24-af197c061b32"
      },
      "outputs": [
        {
          "output_type": "stream",
          "name": "stdout",
          "text": [
            "Classifier predictions:\n",
            "1 Predicted: 1.0        Probability: 0.618      Actual: 1         \n",
            "2 Predicted: 1.0        Probability: 0.747      Actual: 1         \n",
            "3 Predicted: 1.0        Probability: 0.855      Actual: 1         \n",
            "4 Predicted: 1.0        Probability: 0.642      Actual: 0         \n",
            "5 Predicted: 0.0        Probability: 0.578      Actual: 0         \n",
            "6 Predicted: 0.0        Probability: 0.584      Actual: 0         \n"
          ]
        }
      ],
      "source": [
        "from scipy.sparse import hstack, vstack, csr_matrix\n",
        "from utils import get_text_to_predict\n",
        "\n",
        "# Set of texts, that are not in the training set for manual testing\n",
        "text_to_predict = get_text_to_predict()\n",
        "\n",
        "def extract_features(text):\n",
        "    tfidf_vec = tfidf.transform([text])  # sparse\n",
        "    num_feats = [\n",
        "        avg_sentence_length(text),\n",
        "        sentence_length_std(text),\n",
        "        max_sentence_length(text),\n",
        "        punctuation_density(text),\n",
        "        stopword_ratio(text)\n",
        "    ]\n",
        "    pos_feats = list(pos_ratios(text).values())\n",
        "    numerical_array = np.array(num_feats + pos_feats).reshape(1, -1)\n",
        "\n",
        "    # convert dense numerical block to sparse, and force CSR output\n",
        "    numerical_sparse = csr_matrix(numerical_array)\n",
        "    combined = hstack([tfidf_vec, numerical_sparse], format=\"csr\")\n",
        "    return combined\n",
        "\n",
        "print(\"Classifier predictions:\")\n",
        "for i, sample in enumerate(text_to_predict):\n",
        "    # Extract features from the text\n",
        "    features = extract_features(sample[\"text\"])\n",
        "\n",
        "    pred_class = clf.predict(features)[0]\n",
        "    actual_class = sample[\"label\"]\n",
        "\n",
        "    # Get prediction probabilities for confidence\n",
        "    pred_proba = clf.predict_proba(features)[0]\n",
        "    confidence = max(pred_proba)\n",
        "\n",
        "    print(f\"{i+1} Predicted: {pred_class:<10} Probability: {confidence:<10.3f} Actual: {actual_class:<10}\")"
      ]
    },
    {
      "cell_type": "markdown",
      "metadata": {
        "id": "16VmuLpAgnAB"
      },
      "source": [
        "### Transformer Fine-Tuning with DistilBERT"
      ]
    },
    {
      "cell_type": "code",
      "execution_count": 20,
      "metadata": {
        "colab": {
          "base_uri": "https://localhost:8080/"
        },
        "id": "XukKt-ogsyMZ",
        "outputId": "00e6dabf-099f-4658-976b-5fce4f706ada"
      },
      "outputs": [
        {
          "output_type": "stream",
          "name": "stdout",
          "text": [
            "Collecting evaluate\n",
            "  Downloading evaluate-0.4.5-py3-none-any.whl.metadata (9.5 kB)\n",
            "Requirement already satisfied: datasets>=2.0.0 in /usr/local/lib/python3.11/dist-packages (from evaluate) (4.0.0)\n",
            "Requirement already satisfied: numpy>=1.17 in /usr/local/lib/python3.11/dist-packages (from evaluate) (2.0.2)\n",
            "Requirement already satisfied: dill in /usr/local/lib/python3.11/dist-packages (from evaluate) (0.3.8)\n",
            "Requirement already satisfied: pandas in /usr/local/lib/python3.11/dist-packages (from evaluate) (2.2.2)\n",
            "Requirement already satisfied: requests>=2.19.0 in /usr/local/lib/python3.11/dist-packages (from evaluate) (2.32.3)\n",
            "Requirement already satisfied: tqdm>=4.62.1 in /usr/local/lib/python3.11/dist-packages (from evaluate) (4.67.1)\n",
            "Requirement already satisfied: xxhash in /usr/local/lib/python3.11/dist-packages (from evaluate) (3.5.0)\n",
            "Requirement already satisfied: multiprocess in /usr/local/lib/python3.11/dist-packages (from evaluate) (0.70.16)\n",
            "Requirement already satisfied: fsspec>=2021.05.0 in /usr/local/lib/python3.11/dist-packages (from fsspec[http]>=2021.05.0->evaluate) (2025.3.0)\n",
            "Requirement already satisfied: huggingface-hub>=0.7.0 in /usr/local/lib/python3.11/dist-packages (from evaluate) (0.34.3)\n",
            "Requirement already satisfied: packaging in /usr/local/lib/python3.11/dist-packages (from evaluate) (25.0)\n",
            "Requirement already satisfied: filelock in /usr/local/lib/python3.11/dist-packages (from datasets>=2.0.0->evaluate) (3.18.0)\n",
            "Requirement already satisfied: pyarrow>=15.0.0 in /usr/local/lib/python3.11/dist-packages (from datasets>=2.0.0->evaluate) (18.1.0)\n",
            "Requirement already satisfied: pyyaml>=5.1 in /usr/local/lib/python3.11/dist-packages (from datasets>=2.0.0->evaluate) (6.0.2)\n",
            "Requirement already satisfied: aiohttp!=4.0.0a0,!=4.0.0a1 in /usr/local/lib/python3.11/dist-packages (from fsspec[http]>=2021.05.0->evaluate) (3.12.15)\n",
            "Requirement already satisfied: typing-extensions>=3.7.4.3 in /usr/local/lib/python3.11/dist-packages (from huggingface-hub>=0.7.0->evaluate) (4.14.1)\n",
            "Requirement already satisfied: hf-xet<2.0.0,>=1.1.3 in /usr/local/lib/python3.11/dist-packages (from huggingface-hub>=0.7.0->evaluate) (1.1.7)\n",
            "Requirement already satisfied: charset-normalizer<4,>=2 in /usr/local/lib/python3.11/dist-packages (from requests>=2.19.0->evaluate) (3.4.2)\n",
            "Requirement already satisfied: idna<4,>=2.5 in /usr/local/lib/python3.11/dist-packages (from requests>=2.19.0->evaluate) (3.10)\n",
            "Requirement already satisfied: urllib3<3,>=1.21.1 in /usr/local/lib/python3.11/dist-packages (from requests>=2.19.0->evaluate) (2.5.0)\n",
            "Requirement already satisfied: certifi>=2017.4.17 in /usr/local/lib/python3.11/dist-packages (from requests>=2.19.0->evaluate) (2025.8.3)\n",
            "Requirement already satisfied: python-dateutil>=2.8.2 in /usr/local/lib/python3.11/dist-packages (from pandas->evaluate) (2.9.0.post0)\n",
            "Requirement already satisfied: pytz>=2020.1 in /usr/local/lib/python3.11/dist-packages (from pandas->evaluate) (2025.2)\n",
            "Requirement already satisfied: tzdata>=2022.7 in /usr/local/lib/python3.11/dist-packages (from pandas->evaluate) (2025.2)\n",
            "Requirement already satisfied: aiohappyeyeballs>=2.5.0 in /usr/local/lib/python3.11/dist-packages (from aiohttp!=4.0.0a0,!=4.0.0a1->fsspec[http]>=2021.05.0->evaluate) (2.6.1)\n",
            "Requirement already satisfied: aiosignal>=1.4.0 in /usr/local/lib/python3.11/dist-packages (from aiohttp!=4.0.0a0,!=4.0.0a1->fsspec[http]>=2021.05.0->evaluate) (1.4.0)\n",
            "Requirement already satisfied: attrs>=17.3.0 in /usr/local/lib/python3.11/dist-packages (from aiohttp!=4.0.0a0,!=4.0.0a1->fsspec[http]>=2021.05.0->evaluate) (25.3.0)\n",
            "Requirement already satisfied: frozenlist>=1.1.1 in /usr/local/lib/python3.11/dist-packages (from aiohttp!=4.0.0a0,!=4.0.0a1->fsspec[http]>=2021.05.0->evaluate) (1.7.0)\n",
            "Requirement already satisfied: multidict<7.0,>=4.5 in /usr/local/lib/python3.11/dist-packages (from aiohttp!=4.0.0a0,!=4.0.0a1->fsspec[http]>=2021.05.0->evaluate) (6.6.3)\n",
            "Requirement already satisfied: propcache>=0.2.0 in /usr/local/lib/python3.11/dist-packages (from aiohttp!=4.0.0a0,!=4.0.0a1->fsspec[http]>=2021.05.0->evaluate) (0.3.2)\n",
            "Requirement already satisfied: yarl<2.0,>=1.17.0 in /usr/local/lib/python3.11/dist-packages (from aiohttp!=4.0.0a0,!=4.0.0a1->fsspec[http]>=2021.05.0->evaluate) (1.20.1)\n",
            "Requirement already satisfied: six>=1.5 in /usr/local/lib/python3.11/dist-packages (from python-dateutil>=2.8.2->pandas->evaluate) (1.17.0)\n",
            "Downloading evaluate-0.4.5-py3-none-any.whl (84 kB)\n",
            "\u001b[2K   \u001b[90m━━━━━━━━━━━━━━━━━━━━━━━━━━━━━━━━━━━━━━━━\u001b[0m \u001b[32m84.1/84.1 kB\u001b[0m \u001b[31m2.8 MB/s\u001b[0m eta \u001b[36m0:00:00\u001b[0m\n",
            "\u001b[?25hInstalling collected packages: evaluate\n",
            "Successfully installed evaluate-0.4.5\n"
          ]
        }
      ],
      "source": [
        "%pip install evaluate"
      ]
    },
    {
      "cell_type": "code",
      "execution_count": 21,
      "metadata": {
        "colab": {
          "base_uri": "https://localhost:8080/"
        },
        "id": "Ic_tQcajgnAB",
        "outputId": "54f51055-6128-4cc7-df40-63f6587bd228"
      },
      "outputs": [
        {
          "output_type": "stream",
          "name": "stdout",
          "text": [
            "Using CUDA\n"
          ]
        }
      ],
      "source": [
        "import torch\n",
        "from datasets import Dataset\n",
        "from transformers import (\n",
        "    AutoTokenizer,\n",
        "    AutoModelForSequenceClassification,\n",
        "    Trainer,\n",
        "    TrainingArguments,\n",
        "    EarlyStoppingCallback\n",
        ")\n",
        "from peft import LoraConfig, get_peft_model, TaskType,PeftModel\n",
        "from evaluate import load\n",
        "import numpy as np\n",
        "import inspect\n",
        "from utils import setup_device\n",
        "\n",
        "device = setup_device()\n",
        "torch.manual_seed(42)\n",
        "if device.type == \"mps\":\n",
        "    torch.mps.empty_cache()"
      ]
    },
    {
      "cell_type": "markdown",
      "metadata": {
        "id": "jyCe8_uOgnAB"
      },
      "source": [
        "#### Data Split"
      ]
    },
    {
      "cell_type": "code",
      "execution_count": 68,
      "metadata": {
        "id": "tSyfcEaognAB"
      },
      "outputs": [],
      "source": [
        "# Prepare dataset with integer labels\n",
        "df['generated'] = df['generated'].astype(int)\n",
        "hf_dataset = Dataset.from_pandas(df[['text', 'generated']])\n",
        "hf_dataset = hf_dataset.rename_column(\"generated\", \"labels\")\n",
        "\n",
        "# Split dataset\n",
        "dataset = hf_dataset.train_test_split(test_size=0.2, seed=42)\n",
        "train_ds = dataset[\"train\"]\n",
        "test_ds = dataset[\"test\"]"
      ]
    },
    {
      "cell_type": "markdown",
      "metadata": {
        "id": "F_mXKPppgnAB"
      },
      "source": [
        "#### Tokenization"
      ]
    },
    {
      "cell_type": "code",
      "execution_count": 69,
      "metadata": {
        "colab": {
          "base_uri": "https://localhost:8080/",
          "height": 145,
          "referenced_widgets": [
            "81617b65e48d4827ab6922f5bf3b86a8",
            "c9d95bf537394ab0a63810504036b038",
            "53e3e382f7aa403ea71aeccb85f82392",
            "6648687a0b8345b6b7fef480a29c3be1",
            "bab430b8beaf4e6f83458d90928e8749",
            "4cdedf6c2b8d418a93cb6d85dc0d0c69",
            "fc27e1052f9f46c7ae19a11bd9d25a1f",
            "7f3c0b8c139e474e821608b398e37d3f",
            "d5010f3ed14d443bb27ce9d98b318533",
            "a6d665cf9b974a44acb1f1412e4d88bd",
            "0c470f0e5f39498b97f94e36309dce3e",
            "fcb7fec346fe45bd9f08bbe5692b1b4a",
            "fd84a30a74624058903f8d7dacb37697",
            "b7b019656391434085f0f4d9995ff004",
            "e0f47bbcb3ca450fa3971ad6d7bca898",
            "fbe6f61838e147a1941ef0ab10455599",
            "2a15b8575f5f4e16b911cda267571f20",
            "b546d741722e43a1a29033ae95ba51c9",
            "79f2091873ec4651a8740222de2b4be9",
            "8f488eeb77704a939d91740bac9dee8b",
            "dadb31ce3c8d43b483c1f22798ece486",
            "cf1a1d393914483ab2f6f9ce1d6f9ab5",
            "3c7aa5c728554b6cb0fb8e696627133b",
            "40abbdc2f0e34bbe8ea61e591084d9bb",
            "9fdee9863a024d4abcd576e63059ac3a",
            "a34ae5a499064f3fbf0ab504bca30829",
            "a4c7bb9068324209a8685c8754be70f8",
            "547c12eef2fe496ea8a04c44b2844be0",
            "68b683e5f42f45d0a6012535a698eb3b",
            "3f0342cbfd5a4c749a238d1e6966dbc3",
            "ff5531c00efd44deab8d052cd2ad94a0",
            "35677fb9635a4f10811cc6b196028e5f",
            "86067a95ca17427ebf6323f8d35b394e",
            "95d00e62d19f462b9b37a291e2f5eaad",
            "1cb2cfdcf77e47688ed5dd02d1871fe2",
            "5dc0a4e334df46ebbc9df28df4b9ff17",
            "b91a85dd26944c63810dd343419e9f0d",
            "8610aaedfbc54c8e83cd82b253953b9e",
            "f51989fb827642f5b3be13021b3e4ae6",
            "d748a5fc27274d20a9c5620dd733690f",
            "44720d0fa7b04c7c8136e70f65d87a35",
            "9e6b2a1b3d3e45ab801d6992dfeac2c4",
            "50d7ddbc51174360a6947b0bbf95a9da",
            "dea1eea01471438f8c14798e629b6f86"
          ]
        },
        "id": "Ro6kUKLLgnAB",
        "outputId": "58193a81-7bf8-402e-b105-7dae4849921c"
      },
      "outputs": [
        {
          "output_type": "display_data",
          "data": {
            "text/plain": [
              "Map:   0%|          | 0/389788 [00:00<?, ? examples/s]"
            ],
            "application/vnd.jupyter.widget-view+json": {
              "version_major": 2,
              "version_minor": 0,
              "model_id": "81617b65e48d4827ab6922f5bf3b86a8"
            }
          },
          "metadata": {}
        },
        {
          "output_type": "display_data",
          "data": {
            "text/plain": [
              "Map:   0%|          | 0/97447 [00:00<?, ? examples/s]"
            ],
            "application/vnd.jupyter.widget-view+json": {
              "version_major": 2,
              "version_minor": 0,
              "model_id": "fcb7fec346fe45bd9f08bbe5692b1b4a"
            }
          },
          "metadata": {}
        },
        {
          "output_type": "display_data",
          "data": {
            "text/plain": [
              "Map:   0%|          | 0/389788 [00:00<?, ? examples/s]"
            ],
            "application/vnd.jupyter.widget-view+json": {
              "version_major": 2,
              "version_minor": 0,
              "model_id": "3c7aa5c728554b6cb0fb8e696627133b"
            }
          },
          "metadata": {}
        },
        {
          "output_type": "display_data",
          "data": {
            "text/plain": [
              "Map:   0%|          | 0/97447 [00:00<?, ? examples/s]"
            ],
            "application/vnd.jupyter.widget-view+json": {
              "version_major": 2,
              "version_minor": 0,
              "model_id": "95d00e62d19f462b9b37a291e2f5eaad"
            }
          },
          "metadata": {}
        }
      ],
      "source": [
        "tokenizer = AutoTokenizer.from_pretrained(\"distilbert-base-uncased\")\n",
        "\n",
        "def tokenize_func(examples):\n",
        "    return tokenizer(\n",
        "        examples[\"text\"],\n",
        "        padding=\"max_length\",\n",
        "        truncation=True,\n",
        "        max_length=512\n",
        "    )\n",
        "\n",
        "# Tokenize datasets\n",
        "tokenized_train = train_ds.map(tokenize_func, batched=True, batch_size=1000)\n",
        "tokenized_test = test_ds.map(tokenize_func, batched=True, batch_size=1000)\n",
        "\n",
        "# Format labels in batches\n",
        "def format_labels(batch):\n",
        "    batch['labels'] = [int(l) for l in batch['labels']]\n",
        "    return batch\n",
        "\n",
        "tokenized_train = tokenized_train.map(format_labels, batched=True)\n",
        "tokenized_test = tokenized_test.map(format_labels, batched=True)\n",
        "\n",
        "# Set dataset format for PyTorch\n",
        "tokenized_train.set_format(type=\"torch\", columns=[\"input_ids\", \"attention_mask\", \"labels\"])\n",
        "tokenized_test.set_format(type=\"torch\", columns=[\"input_ids\", \"attention_mask\", \"labels\"])\n"
      ]
    },
    {
      "cell_type": "markdown",
      "metadata": {
        "id": "n1_RnfNngnAB"
      },
      "source": [
        "#### Load Model"
      ]
    },
    {
      "cell_type": "code",
      "execution_count": 70,
      "metadata": {
        "colab": {
          "base_uri": "https://localhost:8080/"
        },
        "id": "nIZZT-DQgnAB",
        "outputId": "a611173a-4c65-4d16-f911-60de6cdaa372"
      },
      "outputs": [
        {
          "output_type": "stream",
          "name": "stderr",
          "text": [
            "Some weights of DistilBertForSequenceClassification were not initialized from the model checkpoint at distilbert-base-uncased and are newly initialized: ['classifier.bias', 'classifier.weight', 'pre_classifier.bias', 'pre_classifier.weight']\n",
            "You should probably TRAIN this model on a down-stream task to be able to use it for predictions and inference.\n"
          ]
        }
      ],
      "source": [
        "# Load DistilBERT model\n",
        "base_model = AutoModelForSequenceClassification.from_pretrained(\n",
        "    \"distilbert-base-uncased\",\n",
        "    num_labels=2\n",
        ")\n"
      ]
    },
    {
      "cell_type": "code",
      "source": [
        "# LoRA Configuration\n",
        "lora_config = LoraConfig(\n",
        "    task_type=TaskType.SEQ_CLS,\n",
        "    inference_mode=False,\n",
        "    r=16,\n",
        "    lora_alpha=32,\n",
        "    lora_dropout=0.1,\n",
        "    target_modules=[\"q_lin\", \"v_lin\", \"k_lin\", \"out_lin\"]\n",
        ")\n",
        "\n",
        "# Apply LoRA to the model\n",
        "model = get_peft_model(base_model, lora_config)\n",
        "model.print_trainable_parameters()\n",
        "model.to(device)"
      ],
      "metadata": {
        "colab": {
          "base_uri": "https://localhost:8080/"
        },
        "id": "g-KPLirjOTxa",
        "outputId": "aed53dc3-24c6-43cb-9b58-30119a6e866a"
      },
      "execution_count": 72,
      "outputs": [
        {
          "output_type": "stream",
          "name": "stdout",
          "text": [
            "trainable params: 1,181,954 || all params: 68,136,964 || trainable%: 1.7347\n"
          ]
        },
        {
          "output_type": "execute_result",
          "data": {
            "text/plain": [
              "PeftModelForSequenceClassification(\n",
              "  (base_model): LoraModel(\n",
              "    (model): DistilBertForSequenceClassification(\n",
              "      (distilbert): DistilBertModel(\n",
              "        (embeddings): Embeddings(\n",
              "          (word_embeddings): Embedding(30522, 768, padding_idx=0)\n",
              "          (position_embeddings): Embedding(512, 768)\n",
              "          (LayerNorm): LayerNorm((768,), eps=1e-12, elementwise_affine=True)\n",
              "          (dropout): Dropout(p=0.1, inplace=False)\n",
              "        )\n",
              "        (transformer): Transformer(\n",
              "          (layer): ModuleList(\n",
              "            (0-5): 6 x TransformerBlock(\n",
              "              (attention): DistilBertSdpaAttention(\n",
              "                (dropout): Dropout(p=0.1, inplace=False)\n",
              "                (q_lin): lora.Linear(\n",
              "                  (base_layer): Linear(in_features=768, out_features=768, bias=True)\n",
              "                  (lora_dropout): ModuleDict(\n",
              "                    (default): Dropout(p=0.1, inplace=False)\n",
              "                  )\n",
              "                  (lora_A): ModuleDict(\n",
              "                    (default): Linear(in_features=768, out_features=16, bias=False)\n",
              "                  )\n",
              "                  (lora_B): ModuleDict(\n",
              "                    (default): Linear(in_features=16, out_features=768, bias=False)\n",
              "                  )\n",
              "                  (lora_embedding_A): ParameterDict()\n",
              "                  (lora_embedding_B): ParameterDict()\n",
              "                  (lora_magnitude_vector): ModuleDict()\n",
              "                )\n",
              "                (k_lin): lora.Linear(\n",
              "                  (base_layer): Linear(in_features=768, out_features=768, bias=True)\n",
              "                  (lora_dropout): ModuleDict(\n",
              "                    (default): Dropout(p=0.1, inplace=False)\n",
              "                  )\n",
              "                  (lora_A): ModuleDict(\n",
              "                    (default): Linear(in_features=768, out_features=16, bias=False)\n",
              "                  )\n",
              "                  (lora_B): ModuleDict(\n",
              "                    (default): Linear(in_features=16, out_features=768, bias=False)\n",
              "                  )\n",
              "                  (lora_embedding_A): ParameterDict()\n",
              "                  (lora_embedding_B): ParameterDict()\n",
              "                  (lora_magnitude_vector): ModuleDict()\n",
              "                )\n",
              "                (v_lin): lora.Linear(\n",
              "                  (base_layer): Linear(in_features=768, out_features=768, bias=True)\n",
              "                  (lora_dropout): ModuleDict(\n",
              "                    (default): Dropout(p=0.1, inplace=False)\n",
              "                  )\n",
              "                  (lora_A): ModuleDict(\n",
              "                    (default): Linear(in_features=768, out_features=16, bias=False)\n",
              "                  )\n",
              "                  (lora_B): ModuleDict(\n",
              "                    (default): Linear(in_features=16, out_features=768, bias=False)\n",
              "                  )\n",
              "                  (lora_embedding_A): ParameterDict()\n",
              "                  (lora_embedding_B): ParameterDict()\n",
              "                  (lora_magnitude_vector): ModuleDict()\n",
              "                )\n",
              "                (out_lin): lora.Linear(\n",
              "                  (base_layer): Linear(in_features=768, out_features=768, bias=True)\n",
              "                  (lora_dropout): ModuleDict(\n",
              "                    (default): Dropout(p=0.1, inplace=False)\n",
              "                  )\n",
              "                  (lora_A): ModuleDict(\n",
              "                    (default): Linear(in_features=768, out_features=16, bias=False)\n",
              "                  )\n",
              "                  (lora_B): ModuleDict(\n",
              "                    (default): Linear(in_features=16, out_features=768, bias=False)\n",
              "                  )\n",
              "                  (lora_embedding_A): ParameterDict()\n",
              "                  (lora_embedding_B): ParameterDict()\n",
              "                  (lora_magnitude_vector): ModuleDict()\n",
              "                )\n",
              "              )\n",
              "              (sa_layer_norm): LayerNorm((768,), eps=1e-12, elementwise_affine=True)\n",
              "              (ffn): FFN(\n",
              "                (dropout): Dropout(p=0.1, inplace=False)\n",
              "                (lin1): Linear(in_features=768, out_features=3072, bias=True)\n",
              "                (lin2): Linear(in_features=3072, out_features=768, bias=True)\n",
              "                (activation): GELUActivation()\n",
              "              )\n",
              "              (output_layer_norm): LayerNorm((768,), eps=1e-12, elementwise_affine=True)\n",
              "            )\n",
              "          )\n",
              "        )\n",
              "      )\n",
              "      (pre_classifier): ModulesToSaveWrapper(\n",
              "        (original_module): Linear(in_features=768, out_features=768, bias=True)\n",
              "        (modules_to_save): ModuleDict(\n",
              "          (default): Linear(in_features=768, out_features=768, bias=True)\n",
              "        )\n",
              "      )\n",
              "      (classifier): ModulesToSaveWrapper(\n",
              "        (original_module): Linear(in_features=768, out_features=2, bias=True)\n",
              "        (modules_to_save): ModuleDict(\n",
              "          (default): Linear(in_features=768, out_features=2, bias=True)\n",
              "        )\n",
              "      )\n",
              "      (dropout): Dropout(p=0.2, inplace=False)\n",
              "    )\n",
              "  )\n",
              ")"
            ]
          },
          "metadata": {},
          "execution_count": 72
        }
      ]
    },
    {
      "cell_type": "markdown",
      "metadata": {
        "id": "WNcTCzukgnAB"
      },
      "source": [
        "#### Training"
      ]
    },
    {
      "cell_type": "code",
      "execution_count": 73,
      "metadata": {
        "id": "HSCBXVXHgnAB"
      },
      "outputs": [],
      "source": [
        "# Metrics setup\n",
        "accuracy_metric = load(\"accuracy\")\n",
        "f1_metric = load(\"f1\")\n",
        "\n",
        "def compute_metrics(eval_pred):\n",
        "    logits, labels = eval_pred\n",
        "    preds = np.argmax(logits, axis=-1)\n",
        "    acc = accuracy_metric.compute(predictions=preds, references=labels)\n",
        "    f1 = f1_metric.compute(predictions=preds, references=labels)\n",
        "    return {**acc, **f1}\n",
        "\n",
        "\n",
        "# Training function\n",
        "def train_distilbert_lora(learning_rate, batch_size, epochs, exp_name):\n",
        "    from transformers import Trainer, EarlyStoppingCallback\n",
        "\n",
        "    class CustomTrainer(Trainer):\n",
        "        def _prepare_inputs(self, inputs):\n",
        "            inputs = super()._prepare_inputs(inputs)\n",
        "            inputs.pop(\"num_items_in_batch\", None)\n",
        "            return inputs\n",
        "\n",
        "    training_args = TrainingArguments(\n",
        "        output_dir=f\"./results/distilbert_lora_{exp_name}\",\n",
        "        eval_strategy=\"epoch\",\n",
        "        save_strategy=\"epoch\",\n",
        "        learning_rate=learning_rate,\n",
        "        per_device_train_batch_size=batch_size,\n",
        "        per_device_eval_batch_size=batch_size,\n",
        "        num_train_epochs=epochs,\n",
        "        weight_decay=0.01,\n",
        "        logging_dir=f\"./logs/distilbert_lora_{exp_name}\",\n",
        "        logging_steps=50,\n",
        "        load_best_model_at_end=True,\n",
        "        metric_for_best_model=\"f1\",\n",
        "        greater_is_better=True,\n",
        "        save_total_limit=2,\n",
        "        warmup_steps=500,\n",
        "        dataloader_pin_memory=False\n",
        "    )\n",
        "\n",
        "    trainer = CustomTrainer(\n",
        "        model=model,\n",
        "        args=training_args,\n",
        "        train_dataset=tokenized_train,\n",
        "        eval_dataset=tokenized_test,\n",
        "        tokenizer=tokenizer,  # Use tokenizer instead of processing_class for compatibility\n",
        "        compute_metrics=compute_metrics,\n",
        "        callbacks=[EarlyStoppingCallback(early_stopping_patience=2)]\n",
        "    )\n",
        "\n",
        "    # Train the model\n",
        "    trainer.train()\n",
        "\n",
        "    # Evaluate\n",
        "    results = trainer.evaluate(tokenized_test)\n",
        "    return results, trainer"
      ]
    },
    {
      "cell_type": "code",
      "execution_count": 74,
      "metadata": {
        "colab": {
          "base_uri": "https://localhost:8080/"
        },
        "id": "1ezFhiRagnAB",
        "outputId": "927c5ef7-7f3e-4656-f2c7-b99c90e8ea15"
      },
      "outputs": [
        {
          "output_type": "stream",
          "name": "stdout",
          "text": [
            "Using CUDA\n",
            "Model path does not exist: saved_model/distilbert_lora_final\n"
          ]
        }
      ],
      "source": [
        "from utils import save_model, load_model # utility functions to save and load the model\n",
        "model, tokenizer = load_model()"
      ]
    },
    {
      "cell_type": "code",
      "execution_count": 80,
      "metadata": {
        "colab": {
          "base_uri": "https://localhost:8080/",
          "height": 265
        },
        "id": "rSs73nkLgnAC",
        "outputId": "7f4b1a53-dbf9-4cdf-b4a2-68eae36d1c8b"
      },
      "outputs": [
        {
          "output_type": "stream",
          "name": "stderr",
          "text": [
            "Some weights of DistilBertForSequenceClassification were not initialized from the model checkpoint at distilbert-base-uncased and are newly initialized: ['classifier.bias', 'classifier.weight', 'pre_classifier.bias', 'pre_classifier.weight']\n",
            "You should probably TRAIN this model on a down-stream task to be able to use it for predictions and inference.\n"
          ]
        },
        {
          "output_type": "stream",
          "name": "stdout",
          "text": [
            "Running DistilBERT LoRA experiment distilbert_lora_3...\n"
          ]
        },
        {
          "output_type": "stream",
          "name": "stderr",
          "text": [
            "/tmp/ipython-input-3896461206.py:42: FutureWarning: `tokenizer` is deprecated and will be removed in version 5.0.0 for `CustomTrainer.__init__`. Use `processing_class` instead.\n",
            "  trainer = CustomTrainer(\n"
          ]
        },
        {
          "output_type": "display_data",
          "data": {
            "text/plain": [
              "<IPython.core.display.HTML object>"
            ],
            "text/html": [
              "\n",
              "    <div>\n",
              "      \n",
              "      <progress value='24362' max='24362' style='width:300px; height:20px; vertical-align: middle;'></progress>\n",
              "      [24362/24362 1:43:04, Epoch 2/2]\n",
              "    </div>\n",
              "    <table border=\"1\" class=\"dataframe\">\n",
              "  <thead>\n",
              " <tr style=\"text-align: left;\">\n",
              "      <th>Epoch</th>\n",
              "      <th>Training Loss</th>\n",
              "      <th>Validation Loss</th>\n",
              "      <th>Accuracy</th>\n",
              "      <th>F1</th>\n",
              "    </tr>\n",
              "  </thead>\n",
              "  <tbody>\n",
              "    <tr>\n",
              "      <td>1</td>\n",
              "      <td>0.014200</td>\n",
              "      <td>0.012126</td>\n",
              "      <td>0.996860</td>\n",
              "      <td>0.995811</td>\n",
              "    </tr>\n",
              "    <tr>\n",
              "      <td>2</td>\n",
              "      <td>0.001200</td>\n",
              "      <td>0.010483</td>\n",
              "      <td>0.997219</td>\n",
              "      <td>0.996292</td>\n",
              "    </tr>\n",
              "  </tbody>\n",
              "</table><p>"
            ]
          },
          "metadata": {}
        },
        {
          "output_type": "display_data",
          "data": {
            "text/plain": [
              "<IPython.core.display.HTML object>"
            ],
            "text/html": [
              "\n",
              "    <div>\n",
              "      \n",
              "      <progress value='3046' max='3046' style='width:300px; height:20px; vertical-align: middle;'></progress>\n",
              "      [3046/3046 05:08]\n",
              "    </div>\n",
              "    "
            ]
          },
          "metadata": {}
        }
      ],
      "source": [
        "# Training the albert lora model\n",
        "\n",
        "isCurrentlyTrained = False # checks if the model is already trained, to skip saving\n",
        "\n",
        "if not model:\n",
        "    # used other params, but best was lr: 2e-4, bs: 16, epochs: 3\n",
        "\n",
        "    distilbert_params = [\n",
        "        # {\"lr\": 2e-5, \"bs\": 16, \"epochs\": 4, \"name\": \"distilbert_lora_1\"},\n",
        "        # {\"lr\": 5e-5, \"bs\": 16, \"epochs\": 3, \"name\": \"distilbert_lora_2\"}\n",
        "        {\"lr\": 1e-4, \"bs\": 32, \"epochs\": 2, \"name\": \"distilbert_lora_3\"}\n",
        "    ]\n",
        "\n",
        "    distilbert_log_df = pd.DataFrame()\n",
        "\n",
        "    for param in distilbert_params:\n",
        "        print(f\"Running DistilBERT LoRA experiment {param['name']}...\")\n",
        "\n",
        "        # Reinitialize model for each experiment\n",
        "        base_model = AutoModelForSequenceClassification.from_pretrained(\n",
        "            \"distilbert-base-uncased\",\n",
        "            num_labels=2\n",
        "        )\n",
        "        model = get_peft_model(base_model, lora_config)\n",
        "        model.to(device)\n",
        "\n",
        "        res, trainer = train_distilbert_lora(param[\"lr\"], param[\"bs\"], param[\"epochs\"], param[\"name\"])\n",
        "        res[\"exp_name\"] = param[\"name\"]\n",
        "        res[\"learning_rate\"] = param[\"lr\"]\n",
        "        res[\"batch_size\"] = param[\"bs\"]\n",
        "        res[\"epochs\"] = param[\"epochs\"]\n",
        "        distilbert_log_df = pd.concat([distilbert_log_df, pd.DataFrame([res])], ignore_index=True)\n",
        "\n",
        "    isCurrentlyTrained = True"
      ]
    },
    {
      "cell_type": "code",
      "execution_count": 81,
      "metadata": {
        "colab": {
          "base_uri": "https://localhost:8080/"
        },
        "id": "5dmm4Vd8ueeR",
        "outputId": "6769cfa1-36dd-48f9-bf08-10586222fc96"
      },
      "outputs": [
        {
          "output_type": "stream",
          "name": "stdout",
          "text": [
            "Requirement already satisfied: tabulate in /usr/local/lib/python3.11/dist-packages (0.9.0)\n"
          ]
        }
      ],
      "source": [
        "%pip install tabulate"
      ]
    },
    {
      "cell_type": "code",
      "execution_count": 82,
      "metadata": {
        "colab": {
          "base_uri": "https://localhost:8080/"
        },
        "id": "w6qdnjRhgnAC",
        "outputId": "1cbd90dc-81d4-4cfe-bc4d-81038e56b15d"
      },
      "outputs": [
        {
          "output_type": "stream",
          "name": "stdout",
          "text": [
            "Saving LoRA adapter weights and config...\n",
            "Saving tokenizer...\n",
            "Error saving model: 'NoneType' object has no attribute 'save_pretrained'\n",
            "\n",
            "DistilBERT LoRA Experiment Results:\n",
            "\n",
            "+-------------+-----------------+-----------+----------------+---------------------------+-------------------------+---------+-------------------+-----------------+--------------+----------+\n",
            "|   eval_loss |   eval_accuracy |   eval_f1 |   eval_runtime |   eval_samples_per_second |   eval_steps_per_second |   epoch | exp_name          |   learning_rate |   batch_size |   epochs |\n",
            "|-------------+-----------------+-----------+----------------+---------------------------+-------------------------+---------+-------------------+-----------------+--------------+----------|\n",
            "|   0.0104834 |        0.997219 |  0.996292 |        308.812 |                   315.554 |                   9.864 |       2 | distilbert_lora_3 |          0.0001 |           32 |        2 |\n",
            "+-------------+-----------------+-----------+----------------+---------------------------+-------------------------+---------+-------------------+-----------------+--------------+----------+\n"
          ]
        }
      ],
      "source": [
        "from tabulate import tabulate\n",
        "\n",
        "# saves the model, tokenizer, and model info\n",
        "if isCurrentlyTrained:\n",
        "    save_model(model, tokenizer)\n",
        "    print(\"\\nDistilBERT LoRA Experiment Results:\\n\")\n",
        "    print(tabulate(distilbert_log_df, headers='keys', tablefmt='psql', showindex=False))\n"
      ]
    },
    {
      "cell_type": "markdown",
      "metadata": {
        "id": "O9yTJ7tXgnAC"
      },
      "source": [
        "#### Evaluation"
      ]
    },
    {
      "cell_type": "code",
      "execution_count": 84,
      "metadata": {
        "colab": {
          "base_uri": "https://localhost:8080/",
          "height": 903
        },
        "id": "O2Ls8FE9gnAC",
        "outputId": "594a16e3-bba0-4d5d-bd30-de7bc0c10187"
      },
      "outputs": [
        {
          "output_type": "stream",
          "name": "stderr",
          "text": [
            "100%|██████████| 3046/3046 [05:06<00:00,  9.93it/s]\n"
          ]
        },
        {
          "output_type": "stream",
          "name": "stdout",
          "text": [
            "\n",
            "Classification Report:\n",
            "               precision    recall  f1-score   support\n",
            "\n",
            "Human-written       1.00      1.00      1.00     61014\n",
            " AI-generated       0.99      1.00      1.00     36433\n",
            "\n",
            "     accuracy                           1.00     97447\n",
            "    macro avg       1.00      1.00      1.00     97447\n",
            " weighted avg       1.00      1.00      1.00     97447\n",
            "\n",
            "\n",
            "Confusion Matrix:\n"
          ]
        },
        {
          "output_type": "display_data",
          "data": {
            "text/plain": [
              "<Figure size 800x600 with 2 Axes>"
            ],
            "image/png": "[encoded data removed]"
          },
          "metadata": {}
        },
        {
          "output_type": "stream",
          "name": "stdout",
          "text": [
            "\n",
            "Summary:\n",
            "Total test samples: 97447\n",
            "Correct predictions: 97176\n",
            "Accuracy: 0.9972\n"
          ]
        }
      ],
      "source": [
        "from torch.utils.data import DataLoader\n",
        "\n",
        "# if 'model' not in locals() or not model or not tokenizer:\n",
        "#     model, tokenizer = load_model()\n",
        "\n",
        "model.eval()\n",
        "all_predictions = []\n",
        "all_true_labels = []\n",
        "\n",
        "# Create DataLoader from existing tokenized_test\n",
        "test_dataloader = DataLoader(tokenized_test, batch_size=32, shuffle=False)\n",
        "\n",
        "with torch.no_grad():\n",
        "    for batch in tqdm(test_dataloader):\n",
        "        # Move batch to device\n",
        "        inputs = {k: v.to(device) for k, v in batch.items() if k != 'labels'}\n",
        "        labels = batch['labels']\n",
        "\n",
        "        # Get model predictions\n",
        "        outputs = model(**inputs)\n",
        "        predictions = torch.argmax(outputs.logits, dim=-1)\n",
        "\n",
        "        # Store results\n",
        "        all_predictions.extend(predictions.cpu().numpy())\n",
        "        all_true_labels.extend(labels.cpu().numpy())\n",
        "\n",
        "evaluate_model_performance(all_true_labels, all_predictions)"
      ]
    },
    {
      "cell_type": "markdown",
      "metadata": {
        "id": "jydNwp8EgnAG"
      },
      "source": [
        "##### Manual Testing"
      ]
    },
    {
      "cell_type": "code",
      "execution_count": 85,
      "metadata": {
        "colab": {
          "base_uri": "https://localhost:8080/"
        },
        "id": "Q_Xx7jPRgnAG",
        "outputId": "962346b7-7d6d-4290-8b73-f74778350fb4"
      },
      "outputs": [
        {
          "output_type": "stream",
          "name": "stderr",
          "text": [
            "Token indices sequence length is longer than the specified maximum sequence length for this model (592 > 512). Running this sequence through the model will result in indexing errors\n"
          ]
        },
        {
          "output_type": "stream",
          "name": "stdout",
          "text": [
            "DistilBERT Predictions:\n",
            "1 Predicted: 1          Probability: 1.000      Actual: 1         \n",
            "2 Predicted: 1          Probability: 1.000      Actual: 1         \n",
            "3 Predicted: 1          Probability: 1.000      Actual: 1         \n",
            "4 Predicted: 1          Probability: 1.000      Actual: 0         \n",
            "5 Predicted: 1          Probability: 1.000      Actual: 0         \n",
            "6 Predicted: 1          Probability: 0.808      Actual: 0         \n"
          ]
        }
      ],
      "source": [
        "# To handle long text, we chunk the text into smaller chunks and predict the class for each chunk\n",
        "def chunk_token_ids(token_ids, max_length=512, stride=50):\n",
        "    chunks = []\n",
        "    for i in range(0, len(token_ids), max_length - stride):\n",
        "        chunk = token_ids[i:i + max_length]\n",
        "        chunks.append(chunk)\n",
        "    return chunks\n",
        "\n",
        "def predict(text, model, tokenizer, device):\n",
        "    model.eval()\n",
        "\n",
        "    token_ids = tokenizer.encode(text, add_special_tokens=True, truncation=False)\n",
        "\n",
        "    # Chunk token IDs directly\n",
        "    chunks = chunk_token_ids(token_ids, max_length=512, stride=50)\n",
        "\n",
        "    all_probs = []\n",
        "    for chunk in chunks:\n",
        "        input_ids = torch.tensor([chunk]).to(device)\n",
        "        attention_mask = torch.ones_like(input_ids).to(device)\n",
        "\n",
        "        with torch.no_grad():\n",
        "            outputs = model(input_ids=input_ids, attention_mask=attention_mask)\n",
        "            probs = torch.nn.functional.softmax(outputs.logits, dim=-1)\n",
        "            all_probs.append(probs.cpu())\n",
        "\n",
        "    mean_probs = torch.mean(torch.stack(all_probs), dim=0)\n",
        "    pred_class = torch.argmax(mean_probs, dim=-1).item()\n",
        "    confidence = mean_probs[0][pred_class].item()\n",
        "    return pred_class, confidence\n",
        "\n",
        "\n",
        "print(\"DistilBERT Predictions:\")\n",
        "\n",
        "# using the text set from above\n",
        "for i, sample in enumerate(text_to_predict):\n",
        "    pred_class, confidence = predict(sample[\"text\"], model, tokenizer, device)\n",
        "    actual_class = sample[\"label\"]\n",
        "\n",
        "    print(f\"{i+1} Predicted: {pred_class:<10} Probability: {confidence:<10.3f} Actual: {actual_class:<10}\")\n"
      ]
    },
    {
      "cell_type": "code",
      "source": [
        "text_ai = \"\"\"I tried booking several bikes, but none of them unlocked. The station light turned green, but the bikes wouldn’t undock.\n",
        "Please ensure I’m not charged for the time shown in the app.\"\"\"\n",
        "\n",
        "text_human = \"\"\"In consideration of the return of earned premium to follow (if any) and in accordance ,vith the tenns of the policy\n",
        "I/we hereby request cancellation oft he policy as identified above and effective as of 12:0 I A.M. of the date shown\n",
        "above. This policy is hereby cancelled and surrendered, and the interim renewal certificate (ifany has been issued)\n",
        "for same, acknowledged to be of no effect. I/We hereby release the above insurer from all liability under this\n",
        "policy, including any renewal thereof, as from the aforementioned date of cancellation.\n",
        "\"\"\"\n",
        "\n",
        "text_human_2 = \"\"\"I just tried to book various bikes, and none unlocked, they would go to green on the station but wouldn’t undock.\n",
        "Please, I hope I won’t be charged for the time I was seeing on the app.\n",
        "\"\"\"\n",
        "\n",
        "text_human_3 = \"\"\"I want to cancel the policy i have, starting at 12:01 AM on the date shown. Definitely, I’m returning any renewal certificate I got, and it won’t be valid anymore.\n",
        "From that date, the insurer won’t have any responsibility under this policy or any renewal of it.\n",
        "\"\"\"\n",
        "\n",
        "\n",
        "for text in [text_ai, text_human, text_human_2, text_human_3]:\n",
        "  pred_class, confidence = predict(text, model, tokenizer, device)\n",
        "  print(f\"Predicted: {pred_class:<10} Probability: {confidence:<10.3f}\")\n",
        "\n",
        "print(\"\\n\")\n",
        "\n",
        "for text in [text_ai, text_human, text_human_2, text_human_3]:\n",
        "    features = extract_features(text_human)\n",
        "\n",
        "    pred_class = clf.predict(features)[0]\n",
        "    pred_proba = clf.predict_proba(features)[0]\n",
        "    confidence = max(pred_proba)\n",
        "\n",
        "    print(f\"Predicted: {pred_class:<10} Probability: {confidence:<10.3f}\")"
      ],
      "metadata": {
        "colab": {
          "base_uri": "https://localhost:8080/"
        },
        "id": "ad3tsd3nKZHT",
        "outputId": "4942400c-dd4d-483d-ea0f-c0ad9e6eb1b5"
      },
      "execution_count": 112,
      "outputs": [
        {
          "output_type": "stream",
          "name": "stdout",
          "text": [
            "Predicted: 1          Probability: 1.000     \n",
            "Predicted: 1          Probability: 1.000     \n",
            "Predicted: 0          Probability: 0.998     \n",
            "Predicted: 1          Probability: 1.000     \n",
            "\n",
            "\n",
            "Predicted: 0.0        Probability: 0.796     \n",
            "Predicted: 0.0        Probability: 0.796     \n",
            "Predicted: 0.0        Probability: 0.796     \n",
            "Predicted: 0.0        Probability: 0.796     \n"
          ]
        }
      ]
    }
  ],
  "metadata": {
    "accelerator": "GPU",
    "colab": {
      "gpuType": "A100",
      "machine_shape": "hm",
      "provenance": []
    },
    "kernelspec": {
      "display_name": "Python 3",
      "name": "python3"
    },
    "language_info": {
      "codemirror_mode": {
        "name": "ipython",
        "version": 3
      },
      "file_extension": ".py",
      "mimetype": "text/x-python",
      "name": "python",
      "nbconvert_exporter": "python",
      "pygments_lexer": "ipython3",
      "version": "3.11.6"
    },
    "widgets": {
      "application/vnd.jupyter.widget-state+json": {
        "81617b65e48d4827ab6922f5bf3b86a8": {
          "model_module": "@jupyter-widgets/controls",
          "model_name": "HBoxModel",
          "model_module_version": "1.5.0",
          "state": {
            "_dom_classes": [],
            "_model_module": "@jupyter-widgets/controls",
            "_model_module_version": "1.5.0",
            "_model_name": "HBoxModel",
            "_view_count": null,
            "_view_module": "@jupyter-widgets/controls",
            "_view_module_version": "1.5.0",
            "_view_name": "HBoxView",
            "box_style": "",
            "children": [
              "IPY_MODEL_c9d95bf537394ab0a63810504036b038",
              "IPY_MODEL_53e3e382f7aa403ea71aeccb85f82392",
              "IPY_MODEL_6648687a0b8345b6b7fef480a29c3be1"
            ],
            "layout": "IPY_MODEL_bab430b8beaf4e6f83458d90928e8749"
          }
        },
        "c9d95bf537394ab0a63810504036b038": {
          "model_module": "@jupyter-widgets/controls",
          "model_name": "HTMLModel",
          "model_module_version": "1.5.0",
          "state": {
            "_dom_classes": [],
            "_model_module": "@jupyter-widgets/controls",
            "_model_module_version": "1.5.0",
            "_model_name": "HTMLModel",
            "_view_count": null,
            "_view_module": "@jupyter-widgets/controls",
            "_view_module_version": "1.5.0",
            "_view_name": "HTMLView",
            "description": "",
            "description_tooltip": null,
            "layout": "IPY_MODEL_4cdedf6c2b8d418a93cb6d85dc0d0c69",
            "placeholder": "​",
            "style": "IPY_MODEL_fc27e1052f9f46c7ae19a11bd9d25a1f",
            "value": "Map: 100%"
          }
        },
        "53e3e382f7aa403ea71aeccb85f82392": {
          "model_module": "@jupyter-widgets/controls",
          "model_name": "FloatProgressModel",
          "model_module_version": "1.5.0",
          "state": {
            "_dom_classes": [],
            "_model_module": "@jupyter-widgets/controls",
            "_model_module_version": "1.5.0",
            "_model_name": "FloatProgressModel",
            "_view_count": null,
            "_view_module": "@jupyter-widgets/controls",
            "_view_module_version": "1.5.0",
            "_view_name": "ProgressView",
            "bar_style": "success",
            "description": "",
            "description_tooltip": null,
            "layout": "IPY_MODEL_7f3c0b8c139e474e821608b398e37d3f",
            "max": 389788,
            "min": 0,
            "orientation": "horizontal",
            "style": "IPY_MODEL_d5010f3ed14d443bb27ce9d98b318533",
            "value": 389788
          }
        },
        "6648687a0b8345b6b7fef480a29c3be1": {
          "model_module": "@jupyter-widgets/controls",
          "model_name": "HTMLModel",
          "model_module_version": "1.5.0",
          "state": {
            "_dom_classes": [],
            "_model_module": "@jupyter-widgets/controls",
            "_model_module_version": "1.5.0",
            "_model_name": "HTMLModel",
            "_view_count": null,
            "_view_module": "@jupyter-widgets/controls",
            "_view_module_version": "1.5.0",
            "_view_name": "HTMLView",
            "description": "",
            "description_tooltip": null,
            "layout": "IPY_MODEL_a6d665cf9b974a44acb1f1412e4d88bd",
            "placeholder": "​",
            "style": "IPY_MODEL_0c470f0e5f39498b97f94e36309dce3e",
            "value": " 389788/389788 [02:50&lt;00:00, 2247.71 examples/s]"
          }
        },
        "bab430b8beaf4e6f83458d90928e8749": {
          "model_module": "@jupyter-widgets/base",
          "model_name": "LayoutModel",
          "model_module_version": "1.2.0",
          "state": {
            "_model_module": "@jupyter-widgets/base",
            "_model_module_version": "1.2.0",
            "_model_name": "LayoutModel",
            "_view_count": null,
            "_view_module": "@jupyter-widgets/base",
            "_view_module_version": "1.2.0",
            "_view_name": "LayoutView",
            "align_content": null,
            "align_items": null,
            "align_self": null,
            "border": null,
            "bottom": null,
            "display": null,
            "flex": null,
            "flex_flow": null,
            "grid_area": null,
            "grid_auto_columns": null,
            "grid_auto_flow": null,
            "grid_auto_rows": null,
            "grid_column": null,
            "grid_gap": null,
            "grid_row": null,
            "grid_template_areas": null,
            "grid_template_columns": null,
            "grid_template_rows": null,
            "height": null,
            "justify_content": null,
            "justify_items": null,
            "left": null,
            "margin": null,
            "max_height": null,
            "max_width": null,
            "min_height": null,
            "min_width": null,
            "object_fit": null,
            "object_position": null,
            "order": null,
            "overflow": null,
            "overflow_x": null,
            "overflow_y": null,
            "padding": null,
            "right": null,
            "top": null,
            "visibility": null,
            "width": null
          }
        },
        "4cdedf6c2b8d418a93cb6d85dc0d0c69": {
          "model_module": "@jupyter-widgets/base",
          "model_name": "LayoutModel",
          "model_module_version": "1.2.0",
          "state": {
            "_model_module": "@jupyter-widgets/base",
            "_model_module_version": "1.2.0",
            "_model_name": "LayoutModel",
            "_view_count": null,
            "_view_module": "@jupyter-widgets/base",
            "_view_module_version": "1.2.0",
            "_view_name": "LayoutView",
            "align_content": null,
            "align_items": null,
            "align_self": null,
            "border": null,
            "bottom": null,
            "display": null,
            "flex": null,
            "flex_flow": null,
            "grid_area": null,
            "grid_auto_columns": null,
            "grid_auto_flow": null,
            "grid_auto_rows": null,
            "grid_column": null,
            "grid_gap": null,
            "grid_row": null,
            "grid_template_areas": null,
            "grid_template_columns": null,
            "grid_template_rows": null,
            "height": null,
            "justify_content": null,
            "justify_items": null,
            "left": null,
            "margin": null,
            "max_height": null,
            "max_width": null,
            "min_height": null,
            "min_width": null,
            "object_fit": null,
            "object_position": null,
            "order": null,
            "overflow": null,
            "overflow_x": null,
            "overflow_y": null,
            "padding": null,
            "right": null,
            "top": null,
            "visibility": null,
            "width": null
          }
        },
        "fc27e1052f9f46c7ae19a11bd9d25a1f": {
          "model_module": "@jupyter-widgets/controls",
          "model_name": "DescriptionStyleModel",
          "model_module_version": "1.5.0",
          "state": {
            "_model_module": "@jupyter-widgets/controls",
            "_model_module_version": "1.5.0",
            "_model_name": "DescriptionStyleModel",
            "_view_count": null,
            "_view_module": "@jupyter-widgets/base",
            "_view_module_version": "1.2.0",
            "_view_name": "StyleView",
            "description_width": ""
          }
        },
        "7f3c0b8c139e474e821608b398e37d3f": {
          "model_module": "@jupyter-widgets/base",
          "model_name": "LayoutModel",
          "model_module_version": "1.2.0",
          "state": {
            "_model_module": "@jupyter-widgets/base",
            "_model_module_version": "1.2.0",
            "_model_name": "LayoutModel",
            "_view_count": null,
            "_view_module": "@jupyter-widgets/base",
            "_view_module_version": "1.2.0",
            "_view_name": "LayoutView",
            "align_content": null,
            "align_items": null,
            "align_self": null,
            "border": null,
            "bottom": null,
            "display": null,
            "flex": null,
            "flex_flow": null,
            "grid_area": null,
            "grid_auto_columns": null,
            "grid_auto_flow": null,
            "grid_auto_rows": null,
            "grid_column": null,
            "grid_gap": null,
            "grid_row": null,
            "grid_template_areas": null,
            "grid_template_columns": null,
            "grid_template_rows": null,
            "height": null,
            "justify_content": null,
            "justify_items": null,
            "left": null,
            "margin": null,
            "max_height": null,
            "max_width": null,
            "min_height": null,
            "min_width": null,
            "object_fit": null,
            "object_position": null,
            "order": null,
            "overflow": null,
            "overflow_x": null,
            "overflow_y": null,
            "padding": null,
            "right": null,
            "top": null,
            "visibility": null,
            "width": null
          }
        },
        "d5010f3ed14d443bb27ce9d98b318533": {
          "model_module": "@jupyter-widgets/controls",
          "model_name": "ProgressStyleModel",
          "model_module_version": "1.5.0",
          "state": {
            "_model_module": "@jupyter-widgets/controls",
            "_model_module_version": "1.5.0",
            "_model_name": "ProgressStyleModel",
            "_view_count": null,
            "_view_module": "@jupyter-widgets/base",
            "_view_module_version": "1.2.0",
            "_view_name": "StyleView",
            "bar_color": null,
            "description_width": ""
          }
        },
        "a6d665cf9b974a44acb1f1412e4d88bd": {
          "model_module": "@jupyter-widgets/base",
          "model_name": "LayoutModel",
          "model_module_version": "1.2.0",
          "state": {
            "_model_module": "@jupyter-widgets/base",
            "_model_module_version": "1.2.0",
            "_model_name": "LayoutModel",
            "_view_count": null,
            "_view_module": "@jupyter-widgets/base",
            "_view_module_version": "1.2.0",
            "_view_name": "LayoutView",
            "align_content": null,
            "align_items": null,
            "align_self": null,
            "border": null,
            "bottom": null,
            "display": null,
            "flex": null,
            "flex_flow": null,
            "grid_area": null,
            "grid_auto_columns": null,
            "grid_auto_flow": null,
            "grid_auto_rows": null,
            "grid_column": null,
            "grid_gap": null,
            "grid_row": null,
            "grid_template_areas": null,
            "grid_template_columns": null,
            "grid_template_rows": null,
            "height": null,
            "justify_content": null,
            "justify_items": null,
            "left": null,
            "margin": null,
            "max_height": null,
            "max_width": null,
            "min_height": null,
            "min_width": null,
            "object_fit": null,
            "object_position": null,
            "order": null,
            "overflow": null,
            "overflow_x": null,
            "overflow_y": null,
            "padding": null,
            "right": null,
            "top": null,
            "visibility": null,
            "width": null
          }
        },
        "0c470f0e5f39498b97f94e36309dce3e": {
          "model_module": "@jupyter-widgets/controls",
          "model_name": "DescriptionStyleModel",
          "model_module_version": "1.5.0",
          "state": {
            "_model_module": "@jupyter-widgets/controls",
            "_model_module_version": "1.5.0",
            "_model_name": "DescriptionStyleModel",
            "_view_count": null,
            "_view_module": "@jupyter-widgets/base",
            "_view_module_version": "1.2.0",
            "_view_name": "StyleView",
            "description_width": ""
          }
        },
        "fcb7fec346fe45bd9f08bbe5692b1b4a": {
          "model_module": "@jupyter-widgets/controls",
          "model_name": "HBoxModel",
          "model_module_version": "1.5.0",
          "state": {
            "_dom_classes": [],
            "_model_module": "@jupyter-widgets/controls",
            "_model_module_version": "1.5.0",
            "_model_name": "HBoxModel",
            "_view_count": null,
            "_view_module": "@jupyter-widgets/controls",
            "_view_module_version": "1.5.0",
            "_view_name": "HBoxView",
            "box_style": "",
            "children": [
              "IPY_MODEL_fd84a30a74624058903f8d7dacb37697",
              "IPY_MODEL_b7b019656391434085f0f4d9995ff004",
              "IPY_MODEL_e0f47bbcb3ca450fa3971ad6d7bca898"
            ],
            "layout": "IPY_MODEL_fbe6f61838e147a1941ef0ab10455599"
          }
        },
        "fd84a30a74624058903f8d7dacb37697": {
          "model_module": "@jupyter-widgets/controls",
          "model_name": "HTMLModel",
          "model_module_version": "1.5.0",
          "state": {
            "_dom_classes": [],
            "_model_module": "@jupyter-widgets/controls",
            "_model_module_version": "1.5.0",
            "_model_name": "HTMLModel",
            "_view_count": null,
            "_view_module": "@jupyter-widgets/controls",
            "_view_module_version": "1.5.0",
            "_view_name": "HTMLView",
            "description": "",
            "description_tooltip": null,
            "layout": "IPY_MODEL_2a15b8575f5f4e16b911cda267571f20",
            "placeholder": "​",
            "style": "IPY_MODEL_b546d741722e43a1a29033ae95ba51c9",
            "value": "Map: 100%"
          }
        },
        "b7b019656391434085f0f4d9995ff004": {
          "model_module": "@jupyter-widgets/controls",
          "model_name": "FloatProgressModel",
          "model_module_version": "1.5.0",
          "state": {
            "_dom_classes": [],
            "_model_module": "@jupyter-widgets/controls",
            "_model_module_version": "1.5.0",
            "_model_name": "FloatProgressModel",
            "_view_count": null,
            "_view_module": "@jupyter-widgets/controls",
            "_view_module_version": "1.5.0",
            "_view_name": "ProgressView",
            "bar_style": "success",
            "description": "",
            "description_tooltip": null,
            "layout": "IPY_MODEL_79f2091873ec4651a8740222de2b4be9",
            "max": 97447,
            "min": 0,
            "orientation": "horizontal",
            "style": "IPY_MODEL_8f488eeb77704a939d91740bac9dee8b",
            "value": 97447
          }
        },
        "e0f47bbcb3ca450fa3971ad6d7bca898": {
          "model_module": "@jupyter-widgets/controls",
          "model_name": "HTMLModel",
          "model_module_version": "1.5.0",
          "state": {
            "_dom_classes": [],
            "_model_module": "@jupyter-widgets/controls",
            "_model_module_version": "1.5.0",
            "_model_name": "HTMLModel",
            "_view_count": null,
            "_view_module": "@jupyter-widgets/controls",
            "_view_module_version": "1.5.0",
            "_view_name": "HTMLView",
            "description": "",
            "description_tooltip": null,
            "layout": "IPY_MODEL_dadb31ce3c8d43b483c1f22798ece486",
            "placeholder": "​",
            "style": "IPY_MODEL_cf1a1d393914483ab2f6f9ce1d6f9ab5",
            "value": " 97447/97447 [00:41&lt;00:00, 2357.35 examples/s]"
          }
        },
        "fbe6f61838e147a1941ef0ab10455599": {
          "model_module": "@jupyter-widgets/base",
          "model_name": "LayoutModel",
          "model_module_version": "1.2.0",
          "state": {
            "_model_module": "@jupyter-widgets/base",
            "_model_module_version": "1.2.0",
            "_model_name": "LayoutModel",
            "_view_count": null,
            "_view_module": "@jupyter-widgets/base",
            "_view_module_version": "1.2.0",
            "_view_name": "LayoutView",
            "align_content": null,
            "align_items": null,
            "align_self": null,
            "border": null,
            "bottom": null,
            "display": null,
            "flex": null,
            "flex_flow": null,
            "grid_area": null,
            "grid_auto_columns": null,
            "grid_auto_flow": null,
            "grid_auto_rows": null,
            "grid_column": null,
            "grid_gap": null,
            "grid_row": null,
            "grid_template_areas": null,
            "grid_template_columns": null,
            "grid_template_rows": null,
            "height": null,
            "justify_content": null,
            "justify_items": null,
            "left": null,
            "margin": null,
            "max_height": null,
            "max_width": null,
            "min_height": null,
            "min_width": null,
            "object_fit": null,
            "object_position": null,
            "order": null,
            "overflow": null,
            "overflow_x": null,
            "overflow_y": null,
            "padding": null,
            "right": null,
            "top": null,
            "visibility": null,
            "width": null
          }
        },
        "2a15b8575f5f4e16b911cda267571f20": {
          "model_module": "@jupyter-widgets/base",
          "model_name": "LayoutModel",
          "model_module_version": "1.2.0",
          "state": {
            "_model_module": "@jupyter-widgets/base",
            "_model_module_version": "1.2.0",
            "_model_name": "LayoutModel",
            "_view_count": null,
            "_view_module": "@jupyter-widgets/base",
            "_view_module_version": "1.2.0",
            "_view_name": "LayoutView",
            "align_content": null,
            "align_items": null,
            "align_self": null,
            "border": null,
            "bottom": null,
            "display": null,
            "flex": null,
            "flex_flow": null,
            "grid_area": null,
            "grid_auto_columns": null,
            "grid_auto_flow": null,
            "grid_auto_rows": null,
            "grid_column": null,
            "grid_gap": null,
            "grid_row": null,
            "grid_template_areas": null,
            "grid_template_columns": null,
            "grid_template_rows": null,
            "height": null,
            "justify_content": null,
            "justify_items": null,
            "left": null,
            "margin": null,
            "max_height": null,
            "max_width": null,
            "min_height": null,
            "min_width": null,
            "object_fit": null,
            "object_position": null,
            "order": null,
            "overflow": null,
            "overflow_x": null,
            "overflow_y": null,
            "padding": null,
            "right": null,
            "top": null,
            "visibility": null,
            "width": null
          }
        },
        "b546d741722e43a1a29033ae95ba51c9": {
          "model_module": "@jupyter-widgets/controls",
          "model_name": "DescriptionStyleModel",
          "model_module_version": "1.5.0",
          "state": {
            "_model_module": "@jupyter-widgets/controls",
            "_model_module_version": "1.5.0",
            "_model_name": "DescriptionStyleModel",
            "_view_count": null,
            "_view_module": "@jupyter-widgets/base",
            "_view_module_version": "1.2.0",
            "_view_name": "StyleView",
            "description_width": ""
          }
        },
        "79f2091873ec4651a8740222de2b4be9": {
          "model_module": "@jupyter-widgets/base",
          "model_name": "LayoutModel",
          "model_module_version": "1.2.0",
          "state": {
            "_model_module": "@jupyter-widgets/base",
            "_model_module_version": "1.2.0",
            "_model_name": "LayoutModel",
            "_view_count": null,
            "_view_module": "@jupyter-widgets/base",
            "_view_module_version": "1.2.0",
            "_view_name": "LayoutView",
            "align_content": null,
            "align_items": null,
            "align_self": null,
            "border": null,
            "bottom": null,
            "display": null,
            "flex": null,
            "flex_flow": null,
            "grid_area": null,
            "grid_auto_columns": null,
            "grid_auto_flow": null,
            "grid_auto_rows": null,
            "grid_column": null,
            "grid_gap": null,
            "grid_row": null,
            "grid_template_areas": null,
            "grid_template_columns": null,
            "grid_template_rows": null,
            "height": null,
            "justify_content": null,
            "justify_items": null,
            "left": null,
            "margin": null,
            "max_height": null,
            "max_width": null,
            "min_height": null,
            "min_width": null,
            "object_fit": null,
            "object_position": null,
            "order": null,
            "overflow": null,
            "overflow_x": null,
            "overflow_y": null,
            "padding": null,
            "right": null,
            "top": null,
            "visibility": null,
            "width": null
          }
        },
        "8f488eeb77704a939d91740bac9dee8b": {
          "model_module": "@jupyter-widgets/controls",
          "model_name": "ProgressStyleModel",
          "model_module_version": "1.5.0",
          "state": {
            "_model_module": "@jupyter-widgets/controls",
            "_model_module_version": "1.5.0",
            "_model_name": "ProgressStyleModel",
            "_view_count": null,
            "_view_module": "@jupyter-widgets/base",
            "_view_module_version": "1.2.0",
            "_view_name": "StyleView",
            "bar_color": null,
            "description_width": ""
          }
        },
        "dadb31ce3c8d43b483c1f22798ece486": {
          "model_module": "@jupyter-widgets/base",
          "model_name": "LayoutModel",
          "model_module_version": "1.2.0",
          "state": {
            "_model_module": "@jupyter-widgets/base",
            "_model_module_version": "1.2.0",
            "_model_name": "LayoutModel",
            "_view_count": null,
            "_view_module": "@jupyter-widgets/base",
            "_view_module_version": "1.2.0",
            "_view_name": "LayoutView",
            "align_content": null,
            "align_items": null,
            "align_self": null,
            "border": null,
            "bottom": null,
            "display": null,
            "flex": null,
            "flex_flow": null,
            "grid_area": null,
            "grid_auto_columns": null,
            "grid_auto_flow": null,
            "grid_auto_rows": null,
            "grid_column": null,
            "grid_gap": null,
            "grid_row": null,
            "grid_template_areas": null,
            "grid_template_columns": null,
            "grid_template_rows": null,
            "height": null,
            "justify_content": null,
            "justify_items": null,
            "left": null,
            "margin": null,
            "max_height": null,
            "max_width": null,
            "min_height": null,
            "min_width": null,
            "object_fit": null,
            "object_position": null,
            "order": null,
            "overflow": null,
            "overflow_x": null,
            "overflow_y": null,
            "padding": null,
            "right": null,
            "top": null,
            "visibility": null,
            "width": null
          }
        },
        "cf1a1d393914483ab2f6f9ce1d6f9ab5": {
          "model_module": "@jupyter-widgets/controls",
          "model_name": "DescriptionStyleModel",
          "model_module_version": "1.5.0",
          "state": {
            "_model_module": "@jupyter-widgets/controls",
            "_model_module_version": "1.5.0",
            "_model_name": "DescriptionStyleModel",
            "_view_count": null,
            "_view_module": "@jupyter-widgets/base",
            "_view_module_version": "1.2.0",
            "_view_name": "StyleView",
            "description_width": ""
          }
        },
        "3c7aa5c728554b6cb0fb8e696627133b": {
          "model_module": "@jupyter-widgets/controls",
          "model_name": "HBoxModel",
          "model_module_version": "1.5.0",
          "state": {
            "_dom_classes": [],
            "_model_module": "@jupyter-widgets/controls",
            "_model_module_version": "1.5.0",
            "_model_name": "HBoxModel",
            "_view_count": null,
            "_view_module": "@jupyter-widgets/controls",
            "_view_module_version": "1.5.0",
            "_view_name": "HBoxView",
            "box_style": "",
            "children": [
              "IPY_MODEL_40abbdc2f0e34bbe8ea61e591084d9bb",
              "IPY_MODEL_9fdee9863a024d4abcd576e63059ac3a",
              "IPY_MODEL_a34ae5a499064f3fbf0ab504bca30829"
            ],
            "layout": "IPY_MODEL_a4c7bb9068324209a8685c8754be70f8"
          }
        },
        "40abbdc2f0e34bbe8ea61e591084d9bb": {
          "model_module": "@jupyter-widgets/controls",
          "model_name": "HTMLModel",
          "model_module_version": "1.5.0",
          "state": {
            "_dom_classes": [],
            "_model_module": "@jupyter-widgets/controls",
            "_model_module_version": "1.5.0",
            "_model_name": "HTMLModel",
            "_view_count": null,
            "_view_module": "@jupyter-widgets/controls",
            "_view_module_version": "1.5.0",
            "_view_name": "HTMLView",
            "description": "",
            "description_tooltip": null,
            "layout": "IPY_MODEL_547c12eef2fe496ea8a04c44b2844be0",
            "placeholder": "​",
            "style": "IPY_MODEL_68b683e5f42f45d0a6012535a698eb3b",
            "value": "Map: 100%"
          }
        },
        "9fdee9863a024d4abcd576e63059ac3a": {
          "model_module": "@jupyter-widgets/controls",
          "model_name": "FloatProgressModel",
          "model_module_version": "1.5.0",
          "state": {
            "_dom_classes": [],
            "_model_module": "@jupyter-widgets/controls",
            "_model_module_version": "1.5.0",
            "_model_name": "FloatProgressModel",
            "_view_count": null,
            "_view_module": "@jupyter-widgets/controls",
            "_view_module_version": "1.5.0",
            "_view_name": "ProgressView",
            "bar_style": "success",
            "description": "",
            "description_tooltip": null,
            "layout": "IPY_MODEL_3f0342cbfd5a4c749a238d1e6966dbc3",
            "max": 389788,
            "min": 0,
            "orientation": "horizontal",
            "style": "IPY_MODEL_ff5531c00efd44deab8d052cd2ad94a0",
            "value": 389788
          }
        },
        "a34ae5a499064f3fbf0ab504bca30829": {
          "model_module": "@jupyter-widgets/controls",
          "model_name": "HTMLModel",
          "model_module_version": "1.5.0",
          "state": {
            "_dom_classes": [],
            "_model_module": "@jupyter-widgets/controls",
            "_model_module_version": "1.5.0",
            "_model_name": "HTMLModel",
            "_view_count": null,
            "_view_module": "@jupyter-widgets/controls",
            "_view_module_version": "1.5.0",
            "_view_name": "HTMLView",
            "description": "",
            "description_tooltip": null,
            "layout": "IPY_MODEL_35677fb9635a4f10811cc6b196028e5f",
            "placeholder": "​",
            "style": "IPY_MODEL_86067a95ca17427ebf6323f8d35b394e",
            "value": " 389788/389788 [00:02&lt;00:00, 180579.51 examples/s]"
          }
        },
        "a4c7bb9068324209a8685c8754be70f8": {
          "model_module": "@jupyter-widgets/base",
          "model_name": "LayoutModel",
          "model_module_version": "1.2.0",
          "state": {
            "_model_module": "@jupyter-widgets/base",
            "_model_module_version": "1.2.0",
            "_model_name": "LayoutModel",
            "_view_count": null,
            "_view_module": "@jupyter-widgets/base",
            "_view_module_version": "1.2.0",
            "_view_name": "LayoutView",
            "align_content": null,
            "align_items": null,
            "align_self": null,
            "border": null,
            "bottom": null,
            "display": null,
            "flex": null,
            "flex_flow": null,
            "grid_area": null,
            "grid_auto_columns": null,
            "grid_auto_flow": null,
            "grid_auto_rows": null,
            "grid_column": null,
            "grid_gap": null,
            "grid_row": null,
            "grid_template_areas": null,
            "grid_template_columns": null,
            "grid_template_rows": null,
            "height": null,
            "justify_content": null,
            "justify_items": null,
            "left": null,
            "margin": null,
            "max_height": null,
            "max_width": null,
            "min_height": null,
            "min_width": null,
            "object_fit": null,
            "object_position": null,
            "order": null,
            "overflow": null,
            "overflow_x": null,
            "overflow_y": null,
            "padding": null,
            "right": null,
            "top": null,
            "visibility": null,
            "width": null
          }
        },
        "547c12eef2fe496ea8a04c44b2844be0": {
          "model_module": "@jupyter-widgets/base",
          "model_name": "LayoutModel",
          "model_module_version": "1.2.0",
          "state": {
            "_model_module": "@jupyter-widgets/base",
            "_model_module_version": "1.2.0",
            "_model_name": "LayoutModel",
            "_view_count": null,
            "_view_module": "@jupyter-widgets/base",
            "_view_module_version": "1.2.0",
            "_view_name": "LayoutView",
            "align_content": null,
            "align_items": null,
            "align_self": null,
            "border": null,
            "bottom": null,
            "display": null,
            "flex": null,
            "flex_flow": null,
            "grid_area": null,
            "grid_auto_columns": null,
            "grid_auto_flow": null,
            "grid_auto_rows": null,
            "grid_column": null,
            "grid_gap": null,
            "grid_row": null,
            "grid_template_areas": null,
            "grid_template_columns": null,
            "grid_template_rows": null,
            "height": null,
            "justify_content": null,
            "justify_items": null,
            "left": null,
            "margin": null,
            "max_height": null,
            "max_width": null,
            "min_height": null,
            "min_width": null,
            "object_fit": null,
            "object_position": null,
            "order": null,
            "overflow": null,
            "overflow_x": null,
            "overflow_y": null,
            "padding": null,
            "right": null,
            "top": null,
            "visibility": null,
            "width": null
          }
        },
        "68b683e5f42f45d0a6012535a698eb3b": {
          "model_module": "@jupyter-widgets/controls",
          "model_name": "DescriptionStyleModel",
          "model_module_version": "1.5.0",
          "state": {
            "_model_module": "@jupyter-widgets/controls",
            "_model_module_version": "1.5.0",
            "_model_name": "DescriptionStyleModel",
            "_view_count": null,
            "_view_module": "@jupyter-widgets/base",
            "_view_module_version": "1.2.0",
            "_view_name": "StyleView",
            "description_width": ""
          }
        },
        "3f0342cbfd5a4c749a238d1e6966dbc3": {
          "model_module": "@jupyter-widgets/base",
          "model_name": "LayoutModel",
          "model_module_version": "1.2.0",
          "state": {
            "_model_module": "@jupyter-widgets/base",
            "_model_module_version": "1.2.0",
            "_model_name": "LayoutModel",
            "_view_count": null,
            "_view_module": "@jupyter-widgets/base",
            "_view_module_version": "1.2.0",
            "_view_name": "LayoutView",
            "align_content": null,
            "align_items": null,
            "align_self": null,
            "border": null,
            "bottom": null,
            "display": null,
            "flex": null,
            "flex_flow": null,
            "grid_area": null,
            "grid_auto_columns": null,
            "grid_auto_flow": null,
            "grid_auto_rows": null,
            "grid_column": null,
            "grid_gap": null,
            "grid_row": null,
            "grid_template_areas": null,
            "grid_template_columns": null,
            "grid_template_rows": null,
            "height": null,
            "justify_content": null,
            "justify_items": null,
            "left": null,
            "margin": null,
            "max_height": null,
            "max_width": null,
            "min_height": null,
            "min_width": null,
            "object_fit": null,
            "object_position": null,
            "order": null,
            "overflow": null,
            "overflow_x": null,
            "overflow_y": null,
            "padding": null,
            "right": null,
            "top": null,
            "visibility": null,
            "width": null
          }
        },
        "ff5531c00efd44deab8d052cd2ad94a0": {
          "model_module": "@jupyter-widgets/controls",
          "model_name": "ProgressStyleModel",
          "model_module_version": "1.5.0",
          "state": {
            "_model_module": "@jupyter-widgets/controls",
            "_model_module_version": "1.5.0",
            "_model_name": "ProgressStyleModel",
            "_view_count": null,
            "_view_module": "@jupyter-widgets/base",
            "_view_module_version": "1.2.0",
            "_view_name": "StyleView",
            "bar_color": null,
            "description_width": ""
          }
        },
        "35677fb9635a4f10811cc6b196028e5f": {
          "model_module": "@jupyter-widgets/base",
          "model_name": "LayoutModel",
          "model_module_version": "1.2.0",
          "state": {
            "_model_module": "@jupyter-widgets/base",
            "_model_module_version": "1.2.0",
            "_model_name": "LayoutModel",
            "_view_count": null,
            "_view_module": "@jupyter-widgets/base",
            "_view_module_version": "1.2.0",
            "_view_name": "LayoutView",
            "align_content": null,
            "align_items": null,
            "align_self": null,
            "border": null,
            "bottom": null,
            "display": null,
            "flex": null,
            "flex_flow": null,
            "grid_area": null,
            "grid_auto_columns": null,
            "grid_auto_flow": null,
            "grid_auto_rows": null,
            "grid_column": null,
            "grid_gap": null,
            "grid_row": null,
            "grid_template_areas": null,
            "grid_template_columns": null,
            "grid_template_rows": null,
            "height": null,
            "justify_content": null,
            "justify_items": null,
            "left": null,
            "margin": null,
            "max_height": null,
            "max_width": null,
            "min_height": null,
            "min_width": null,
            "object_fit": null,
            "object_position": null,
            "order": null,
            "overflow": null,
            "overflow_x": null,
            "overflow_y": null,
            "padding": null,
            "right": null,
            "top": null,
            "visibility": null,
            "width": null
          }
        },
        "86067a95ca17427ebf6323f8d35b394e": {
          "model_module": "@jupyter-widgets/controls",
          "model_name": "DescriptionStyleModel",
          "model_module_version": "1.5.0",
          "state": {
            "_model_module": "@jupyter-widgets/controls",
            "_model_module_version": "1.5.0",
            "_model_name": "DescriptionStyleModel",
            "_view_count": null,
            "_view_module": "@jupyter-widgets/base",
            "_view_module_version": "1.2.0",
            "_view_name": "StyleView",
            "description_width": ""
          }
        },
        "95d00e62d19f462b9b37a291e2f5eaad": {
          "model_module": "@jupyter-widgets/controls",
          "model_name": "HBoxModel",
          "model_module_version": "1.5.0",
          "state": {
            "_dom_classes": [],
            "_model_module": "@jupyter-widgets/controls",
            "_model_module_version": "1.5.0",
            "_model_name": "HBoxModel",
            "_view_count": null,
            "_view_module": "@jupyter-widgets/controls",
            "_view_module_version": "1.5.0",
            "_view_name": "HBoxView",
            "box_style": "",
            "children": [
              "IPY_MODEL_1cb2cfdcf77e47688ed5dd02d1871fe2",
              "IPY_MODEL_5dc0a4e334df46ebbc9df28df4b9ff17",
              "IPY_MODEL_b91a85dd26944c63810dd343419e9f0d"
            ],
            "layout": "IPY_MODEL_8610aaedfbc54c8e83cd82b253953b9e"
          }
        },
        "1cb2cfdcf77e47688ed5dd02d1871fe2": {
          "model_module": "@jupyter-widgets/controls",
          "model_name": "HTMLModel",
          "model_module_version": "1.5.0",
          "state": {
            "_dom_classes": [],
            "_model_module": "@jupyter-widgets/controls",
            "_model_module_version": "1.5.0",
            "_model_name": "HTMLModel",
            "_view_count": null,
            "_view_module": "@jupyter-widgets/controls",
            "_view_module_version": "1.5.0",
            "_view_name": "HTMLView",
            "description": "",
            "description_tooltip": null,
            "layout": "IPY_MODEL_f51989fb827642f5b3be13021b3e4ae6",
            "placeholder": "​",
            "style": "IPY_MODEL_d748a5fc27274d20a9c5620dd733690f",
            "value": "Map: 100%"
          }
        },
        "5dc0a4e334df46ebbc9df28df4b9ff17": {
          "model_module": "@jupyter-widgets/controls",
          "model_name": "FloatProgressModel",
          "model_module_version": "1.5.0",
          "state": {
            "_dom_classes": [],
            "_model_module": "@jupyter-widgets/controls",
            "_model_module_version": "1.5.0",
            "_model_name": "FloatProgressModel",
            "_view_count": null,
            "_view_module": "@jupyter-widgets/controls",
            "_view_module_version": "1.5.0",
            "_view_name": "ProgressView",
            "bar_style": "success",
            "description": "",
            "description_tooltip": null,
            "layout": "IPY_MODEL_44720d0fa7b04c7c8136e70f65d87a35",
            "max": 97447,
            "min": 0,
            "orientation": "horizontal",
            "style": "IPY_MODEL_9e6b2a1b3d3e45ab801d6992dfeac2c4",
            "value": 97447
          }
        },
        "b91a85dd26944c63810dd343419e9f0d": {
          "model_module": "@jupyter-widgets/controls",
          "model_name": "HTMLModel",
          "model_module_version": "1.5.0",
          "state": {
            "_dom_classes": [],
            "_model_module": "@jupyter-widgets/controls",
            "_model_module_version": "1.5.0",
            "_model_name": "HTMLModel",
            "_view_count": null,
            "_view_module": "@jupyter-widgets/controls",
            "_view_module_version": "1.5.0",
            "_view_name": "HTMLView",
            "description": "",
            "description_tooltip": null,
            "layout": "IPY_MODEL_50d7ddbc51174360a6947b0bbf95a9da",
            "placeholder": "​",
            "style": "IPY_MODEL_dea1eea01471438f8c14798e629b6f86",
            "value": " 97447/97447 [00:00&lt;00:00, 116036.90 examples/s]"
          }
        },
        "8610aaedfbc54c8e83cd82b253953b9e": {
          "model_module": "@jupyter-widgets/base",
          "model_name": "LayoutModel",
          "model_module_version": "1.2.0",
          "state": {
            "_model_module": "@jupyter-widgets/base",
            "_model_module_version": "1.2.0",
            "_model_name": "LayoutModel",
            "_view_count": null,
            "_view_module": "@jupyter-widgets/base",
            "_view_module_version": "1.2.0",
            "_view_name": "LayoutView",
            "align_content": null,
            "align_items": null,
            "align_self": null,
            "border": null,
            "bottom": null,
            "display": null,
            "flex": null,
            "flex_flow": null,
            "grid_area": null,
            "grid_auto_columns": null,
            "grid_auto_flow": null,
            "grid_auto_rows": null,
            "grid_column": null,
            "grid_gap": null,
            "grid_row": null,
            "grid_template_areas": null,
            "grid_template_columns": null,
            "grid_template_rows": null,
            "height": null,
            "justify_content": null,
            "justify_items": null,
            "left": null,
            "margin": null,
            "max_height": null,
            "max_width": null,
            "min_height": null,
            "min_width": null,
            "object_fit": null,
            "object_position": null,
            "order": null,
            "overflow": null,
            "overflow_x": null,
            "overflow_y": null,
            "padding": null,
            "right": null,
            "top": null,
            "visibility": null,
            "width": null
          }
        },
        "f51989fb827642f5b3be13021b3e4ae6": {
          "model_module": "@jupyter-widgets/base",
          "model_name": "LayoutModel",
          "model_module_version": "1.2.0",
          "state": {
            "_model_module": "@jupyter-widgets/base",
            "_model_module_version": "1.2.0",
            "_model_name": "LayoutModel",
            "_view_count": null,
            "_view_module": "@jupyter-widgets/base",
            "_view_module_version": "1.2.0",
            "_view_name": "LayoutView",
            "align_content": null,
            "align_items": null,
            "align_self": null,
            "border": null,
            "bottom": null,
            "display": null,
            "flex": null,
            "flex_flow": null,
            "grid_area": null,
            "grid_auto_columns": null,
            "grid_auto_flow": null,
            "grid_auto_rows": null,
            "grid_column": null,
            "grid_gap": null,
            "grid_row": null,
            "grid_template_areas": null,
            "grid_template_columns": null,
            "grid_template_rows": null,
            "height": null,
            "justify_content": null,
            "justify_items": null,
            "left": null,
            "margin": null,
            "max_height": null,
            "max_width": null,
            "min_height": null,
            "min_width": null,
            "object_fit": null,
            "object_position": null,
            "order": null,
            "overflow": null,
            "overflow_x": null,
            "overflow_y": null,
            "padding": null,
            "right": null,
            "top": null,
            "visibility": null,
            "width": null
          }
        },
        "d748a5fc27274d20a9c5620dd733690f": {
          "model_module": "@jupyter-widgets/controls",
          "model_name": "DescriptionStyleModel",
          "model_module_version": "1.5.0",
          "state": {
            "_model_module": "@jupyter-widgets/controls",
            "_model_module_version": "1.5.0",
            "_model_name": "DescriptionStyleModel",
            "_view_count": null,
            "_view_module": "@jupyter-widgets/base",
            "_view_module_version": "1.2.0",
            "_view_name": "StyleView",
            "description_width": ""
          }
        },
        "44720d0fa7b04c7c8136e70f65d87a35": {
          "model_module": "@jupyter-widgets/base",
          "model_name": "LayoutModel",
          "model_module_version": "1.2.0",
          "state": {
            "_model_module": "@jupyter-widgets/base",
            "_model_module_version": "1.2.0",
            "_model_name": "LayoutModel",
            "_view_count": null,
            "_view_module": "@jupyter-widgets/base",
            "_view_module_version": "1.2.0",
            "_view_name": "LayoutView",
            "align_content": null,
            "align_items": null,
            "align_self": null,
            "border": null,
            "bottom": null,
            "display": null,
            "flex": null,
            "flex_flow": null,
            "grid_area": null,
            "grid_auto_columns": null,
            "grid_auto_flow": null,
            "grid_auto_rows": null,
            "grid_column": null,
            "grid_gap": null,
            "grid_row": null,
            "grid_template_areas": null,
            "grid_template_columns": null,
            "grid_template_rows": null,
            "height": null,
            "justify_content": null,
            "justify_items": null,
            "left": null,
            "margin": null,
            "max_height": null,
            "max_width": null,
            "min_height": null,
            "min_width": null,
            "object_fit": null,
            "object_position": null,
            "order": null,
            "overflow": null,
            "overflow_x": null,
            "overflow_y": null,
            "padding": null,
            "right": null,
            "top": null,
            "visibility": null,
            "width": null
          }
        },
        "9e6b2a1b3d3e45ab801d6992dfeac2c4": {
          "model_module": "@jupyter-widgets/controls",
          "model_name": "ProgressStyleModel",
          "model_module_version": "1.5.0",
          "state": {
            "_model_module": "@jupyter-widgets/controls",
            "_model_module_version": "1.5.0",
            "_model_name": "ProgressStyleModel",
            "_view_count": null,
            "_view_module": "@jupyter-widgets/base",
            "_view_module_version": "1.2.0",
            "_view_name": "StyleView",
            "bar_color": null,
            "description_width": ""
          }
        },
        "50d7ddbc51174360a6947b0bbf95a9da": {
          "model_module": "@jupyter-widgets/base",
          "model_name": "LayoutModel",
          "model_module_version": "1.2.0",
          "state": {
            "_model_module": "@jupyter-widgets/base",
            "_model_module_version": "1.2.0",
            "_model_name": "LayoutModel",
            "_view_count": null,
            "_view_module": "@jupyter-widgets/base",
            "_view_module_version": "1.2.0",
            "_view_name": "LayoutView",
            "align_content": null,
            "align_items": null,
            "align_self": null,
            "border": null,
            "bottom": null,
            "display": null,
            "flex": null,
            "flex_flow": null,
            "grid_area": null,
            "grid_auto_columns": null,
            "grid_auto_flow": null,
            "grid_auto_rows": null,
            "grid_column": null,
            "grid_gap": null,
            "grid_row": null,
            "grid_template_areas": null,
            "grid_template_columns": null,
            "grid_template_rows": null,
            "height": null,
            "justify_content": null,
            "justify_items": null,
            "left": null,
            "margin": null,
            "max_height": null,
            "max_width": null,
            "min_height": null,
            "min_width": null,
            "object_fit": null,
            "object_position": null,
            "order": null,
            "overflow": null,
            "overflow_x": null,
            "overflow_y": null,
            "padding": null,
            "right": null,
            "top": null,
            "visibility": null,
            "width": null
          }
        },
        "dea1eea01471438f8c14798e629b6f86": {
          "model_module": "@jupyter-widgets/controls",
          "model_name": "DescriptionStyleModel",
          "model_module_version": "1.5.0",
          "state": {
            "_model_module": "@jupyter-widgets/controls",
            "_model_module_version": "1.5.0",
            "_model_name": "DescriptionStyleModel",
            "_view_count": null,
            "_view_module": "@jupyter-widgets/base",
            "_view_module_version": "1.2.0",
            "_view_name": "StyleView",
            "description_width": ""
          }
        }
      }
    }
  },
  "nbformat": 4,
  "nbformat_minor": 0
}